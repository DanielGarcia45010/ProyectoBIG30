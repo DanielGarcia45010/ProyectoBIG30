{
  "nbformat": 4,
  "nbformat_minor": 0,
  "metadata": {
    "colab": {
      "provenance": [],
      "collapsed_sections": [
        "TUTBjPTlYufg",
        "LolwfdOznS5p"
      ]
    },
    "kernelspec": {
      "name": "python3",
      "display_name": "Python 3"
    },
    "language_info": {
      "name": "python"
    }
  },
  "cells": [
    {
      "cell_type": "markdown",
      "source": [
        "# PROYECTO 1 Turismo de los Alpes"
      ],
      "metadata": {
        "id": "eMpREPXPMkU9"
      }
    },
    {
      "cell_type": "markdown",
      "source": [
        "Primero es necesario instalar unicode si no lo tienes ya en Colab"
      ],
      "metadata": {
        "id": "8sH6zMOyQCKJ"
      }
    },
    {
      "cell_type": "code",
      "source": [
        "!pip install unidecode\n",
        "\n"
      ],
      "metadata": {
        "colab": {
          "base_uri": "https://localhost:8080/"
        },
        "id": "RAE_aCclPXfn",
        "outputId": "fb78ca53-d303-4e15-845d-0b58bd6f83ec"
      },
      "execution_count": null,
      "outputs": [
        {
          "output_type": "stream",
          "name": "stdout",
          "text": [
            "Collecting unidecode\n",
            "  Downloading Unidecode-1.3.8-py3-none-any.whl (235 kB)\n",
            "\u001b[?25l     \u001b[90m━━━━━━━━━━━━━━━━━━━━━━━━━━━━━━━━━━━━━━━━\u001b[0m \u001b[32m0.0/235.5 kB\u001b[0m \u001b[31m?\u001b[0m eta \u001b[36m-:--:--\u001b[0m\r\u001b[2K     \u001b[91m━━━━━━━━━━━━━━━\u001b[0m\u001b[91m╸\u001b[0m\u001b[90m━━━━━━━━━━━━━━━━━━━━━━━━\u001b[0m \u001b[32m92.2/235.5 kB\u001b[0m \u001b[31m2.7 MB/s\u001b[0m eta \u001b[36m0:00:01\u001b[0m\r\u001b[2K     \u001b[90m━━━━━━━━━━━━━━━━━━━━━━━━━━━━━━━━━━━━━━━━\u001b[0m \u001b[32m235.5/235.5 kB\u001b[0m \u001b[31m4.3 MB/s\u001b[0m eta \u001b[36m0:00:00\u001b[0m\n",
            "\u001b[?25hInstalling collected packages: unidecode\n",
            "Successfully installed unidecode-1.3.8\n"
          ]
        }
      ]
    },
    {
      "cell_type": "code",
      "source": [
        "import pandas as pd\n",
        "from unidecode import unidecode\n",
        "import numpy as np\n",
        "import seaborn as sns\n",
        "import matplotlib.pyplot as plt\n",
        "from sklearn.preprocessing import Normalizer\n",
        "from sklearn.metrics import mean_absolute_error\n",
        "from sklearn.metrics import mean_squared_error\n",
        "from sklearn.compose import ColumnTransformer\n",
        "from sklearn.model_selection import train_test_split\n",
        "from sklearn.pipeline import Pipeline\n",
        "from sklearn.linear_model import LinearRegression\n",
        "from IPython.display import display\n",
        "\n",
        "import nltk\n",
        "from nltk.corpus import stopwords\n",
        "from nltk.stem import SnowballStemmer\n",
        "from nltk.tokenize import word_tokenize\n",
        "from sklearn.feature_extraction.text import TfidfVectorizer\n",
        "from sklearn.tree import DecisionTreeClassifier\n",
        "from sklearn.metrics import accuracy_score, confusion_matrix, classification_report\n",
        "\n",
        "\n",
        "# Descargar recursos necesarios de NLTK\n",
        "nltk.download('punkt')\n",
        "nltk.download('stopwords')\n"
      ],
      "metadata": {
        "id": "GlMyYCzZMy42",
        "colab": {
          "base_uri": "https://localhost:8080/"
        },
        "outputId": "e6fa374d-8ad9-4787-a309-7b0666e6370e"
      },
      "execution_count": null,
      "outputs": [
        {
          "output_type": "stream",
          "name": "stderr",
          "text": [
            "[nltk_data] Downloading package punkt to /root/nltk_data...\n",
            "[nltk_data]   Unzipping tokenizers/punkt.zip.\n",
            "[nltk_data] Downloading package stopwords to /root/nltk_data...\n",
            "[nltk_data]   Unzipping corpora/stopwords.zip.\n"
          ]
        },
        {
          "output_type": "execute_result",
          "data": {
            "text/plain": [
              "True"
            ]
          },
          "metadata": {},
          "execution_count": 2
        }
      ]
    },
    {
      "cell_type": "code",
      "source": [
        "\n",
        "\n",
        "# Lista para almacenar los datos\n",
        "data_list = []\n",
        "\n",
        "# Ruta del archivo CSV\n",
        "archivo = \"/content/tipo1_entrenamiento_estudiantes.csv\"\n",
        "\n",
        "# Lectura del archivo línea por línea\n",
        "with open(archivo, 'r', encoding='utf-8') as f:\n",
        "    for line in f:\n",
        "        # Encuentra la última coma en la línea\n",
        "        last_comma_index = line.rfind(',')\n",
        "\n",
        "        # Divide la línea en dos partes: antes y después de la última coma\n",
        "        sentence = line[:last_comma_index].strip()  # Elimina los espacios alrededor\n",
        "        number = line[last_comma_index+1:].strip()  # Elimina los espacios alrededor\n",
        "\n",
        "        # Corrige la ortografía y maneja los caracteres especiales\n",
        "        sentence_corrected = unidecode(sentence)\n",
        "\n",
        "        # Agrega los datos corregidos a la lista\n",
        "        data_list.append((sentence_corrected, number))\n",
        "\n",
        "# Convierte la lista en un DataFrame de pandas\n",
        "data = pd.DataFrame(data_list, columns=['Review', 'Class'])"
      ],
      "metadata": {
        "id": "z6UEZCQXNCvC"
      },
      "execution_count": null,
      "outputs": []
    },
    {
      "cell_type": "markdown",
      "source": [
        "Ahora veremos los datos para poder corrobar que hayan quedado bien."
      ],
      "metadata": {
        "id": "Hc7zW26qQ2k0"
      }
    },
    {
      "cell_type": "code",
      "source": [
        "pd.set_option('display.max_colwidth', None)\n",
        "display(data)"
      ],
      "metadata": {
        "colab": {
          "base_uri": "https://localhost:8080/",
          "height": 840
        },
        "id": "SYZdrdOlQ14e",
        "outputId": "12e70205-47a4-416e-e84d-bed4738c51dd"
      },
      "execution_count": null,
      "outputs": [
        {
          "output_type": "display_data",
          "data": {
            "text/plain": [
              "                                                                                                                                                                                                                                                                                                                                                                                                                                                                                                                                                                                                                                       Review  \\\n",
              "0                                                                                                                                                                                                                                                                                                                                                                                                                                                                                                                                                                                                                                      Review   \n",
              "1                                                                                                                                                                                                          \"Nos alojamos en una casa alquilada en la ciudad amurallada. Parecia tan segura como cualquier otra gran ciudad con un monton de buenos restaurantes, tiendas y vida nocturna. Gran lugar para un grupo con intereses variados, no estoy seguro de que le traiga a los ninos aqui solo porque no hay mucho que hacer para ellos. Asegurate de aventurarse fuera de la ciudad, pero algunos tambien es un gran lugar para alojarse\"   \n",
              "2                                                                                                                                                                                                                                                                                                                                                                   \"La comida esta bien, pero nada especial. Yo tenia mejor comida Mexcan en los Estados Unidos. Las margaritas eran geniales. El Mahi Mahi pescado recocido y seco. La carne fajitas aceptable y el coco camarones sabroso. El tortilla chips aperitivo fue decepcionante.\"   \n",
              "3      \"En mi opinion, no es una como muchos usuarios reclaman. Es un gran paladar que parece ser una parada con muchos grupos de excursion. El menu es mas interesante que los otros restaurantes comimos en. La parte mas interesante de la experiencia es que el...edificio esta en una seccion de La Habana Centro. Las plantas inferiores estan muy deteriorados, y tienen apartamentos donde viven muchos trabajadores de restaurante. Los pisos superiores, donde el restaurante es, han sido restauradas a gloria pasada. Las reservas son imprescindibles. Plan de 40 a 50 CUC por persona para una comida con cocteles y vinos.Mas\"   \n",
              "4                                                                                                                                                                                                                                                                                                                                                                                                                                                      \"esta curiosa forma que asemeja una silla de montar de ahi su nombre es el icono de la ciudad, vale mucho la pena si no puedes ubir lo puedes asdnirr de cualquier punto de la ciudad\"   \n",
              "...                                                                                                                                                                                                                                                                                                                                                                                                                                                                                                                                                                                                                                       ...   \n",
              "10561                                                                                                                                                                                                                                                                                                                                                                                                                                                              \"Si vas a Merida no puedes perderte de este lugar y que tiene una nueva sucursal mas amplia y con la misma calidad, excelente servicio y comida deliciosa y bien servida.\"   \n",
              "10562                                                                                                                                                                                              \"Este imperdible sitio, que lleva el nombre del conquistador, es una joya urbana.Su amplitud para  el trafico local motorizado evita congestionamietos,  a ambos lados una amplia zona  para corredores o simples caminadores  llena de pequenos cafes, restaurantes y bares para todos los gustos. Me impresiono la limpieza, la tranquilidad que en nuestros dias es un privilegio y AUSENCIA DE GRAFITI.  qUE HERMOSURA ES IMPERDIBLE.\"   \n",
              "10563                                                                                                                                                                                                                                                                                                                                                                                                                                                                                                                                                                                                      \"Festejando Dia del Amor y Amistad   \n",
              "10564                                                                                                                                                                                                                                                                                                                                                                                                                                                                                                                                                                                                                                           \n",
              "10565                                                                                                                                                                                                                                                                                                                                                                                                   Te remonta a un restaurante o cafeteria de Paris. La ambientacion y los detalles hacen de este restaurante un lugar calido para pasar un rato con amigas o una cena romantica.  Las crepas son deliciosas prueba la de manzana...Mas\"   \n",
              "\n",
              "                                    Class  \n",
              "0                                   Class  \n",
              "1                                       4  \n",
              "2                                       3  \n",
              "3                                       3  \n",
              "4                                       4  \n",
              "...                                   ...  \n",
              "10561                                   5  \n",
              "10562                                   5  \n",
              "10563  \"Festejando Dia del Amor y Amistad  \n",
              "10564                                      \n",
              "10565                                   3  \n",
              "\n",
              "[10566 rows x 2 columns]"
            ],
            "text/html": [
              "\n",
              "  <div id=\"df-132b6f44-7f8c-4aa9-a3ed-2f375970a01d\" class=\"colab-df-container\">\n",
              "    <div>\n",
              "<style scoped>\n",
              "    .dataframe tbody tr th:only-of-type {\n",
              "        vertical-align: middle;\n",
              "    }\n",
              "\n",
              "    .dataframe tbody tr th {\n",
              "        vertical-align: top;\n",
              "    }\n",
              "\n",
              "    .dataframe thead th {\n",
              "        text-align: right;\n",
              "    }\n",
              "</style>\n",
              "<table border=\"1\" class=\"dataframe\">\n",
              "  <thead>\n",
              "    <tr style=\"text-align: right;\">\n",
              "      <th></th>\n",
              "      <th>Review</th>\n",
              "      <th>Class</th>\n",
              "    </tr>\n",
              "  </thead>\n",
              "  <tbody>\n",
              "    <tr>\n",
              "      <th>0</th>\n",
              "      <td>Review</td>\n",
              "      <td>Class</td>\n",
              "    </tr>\n",
              "    <tr>\n",
              "      <th>1</th>\n",
              "      <td>\"Nos alojamos en una casa alquilada en la ciudad amurallada. Parecia tan segura como cualquier otra gran ciudad con un monton de buenos restaurantes, tiendas y vida nocturna. Gran lugar para un grupo con intereses variados, no estoy seguro de que le traiga a los ninos aqui solo porque no hay mucho que hacer para ellos. Asegurate de aventurarse fuera de la ciudad, pero algunos tambien es un gran lugar para alojarse\"</td>\n",
              "      <td>4</td>\n",
              "    </tr>\n",
              "    <tr>\n",
              "      <th>2</th>\n",
              "      <td>\"La comida esta bien, pero nada especial. Yo tenia mejor comida Mexcan en los Estados Unidos. Las margaritas eran geniales. El Mahi Mahi pescado recocido y seco. La carne fajitas aceptable y el coco camarones sabroso. El tortilla chips aperitivo fue decepcionante.\"</td>\n",
              "      <td>3</td>\n",
              "    </tr>\n",
              "    <tr>\n",
              "      <th>3</th>\n",
              "      <td>\"En mi opinion, no es una como muchos usuarios reclaman. Es un gran paladar que parece ser una parada con muchos grupos de excursion. El menu es mas interesante que los otros restaurantes comimos en. La parte mas interesante de la experiencia es que el...edificio esta en una seccion de La Habana Centro. Las plantas inferiores estan muy deteriorados, y tienen apartamentos donde viven muchos trabajadores de restaurante. Los pisos superiores, donde el restaurante es, han sido restauradas a gloria pasada. Las reservas son imprescindibles. Plan de 40 a 50 CUC por persona para una comida con cocteles y vinos.Mas\"</td>\n",
              "      <td>3</td>\n",
              "    </tr>\n",
              "    <tr>\n",
              "      <th>4</th>\n",
              "      <td>\"esta curiosa forma que asemeja una silla de montar de ahi su nombre es el icono de la ciudad, vale mucho la pena si no puedes ubir lo puedes asdnirr de cualquier punto de la ciudad\"</td>\n",
              "      <td>4</td>\n",
              "    </tr>\n",
              "    <tr>\n",
              "      <th>...</th>\n",
              "      <td>...</td>\n",
              "      <td>...</td>\n",
              "    </tr>\n",
              "    <tr>\n",
              "      <th>10561</th>\n",
              "      <td>\"Si vas a Merida no puedes perderte de este lugar y que tiene una nueva sucursal mas amplia y con la misma calidad, excelente servicio y comida deliciosa y bien servida.\"</td>\n",
              "      <td>5</td>\n",
              "    </tr>\n",
              "    <tr>\n",
              "      <th>10562</th>\n",
              "      <td>\"Este imperdible sitio, que lleva el nombre del conquistador, es una joya urbana.Su amplitud para  el trafico local motorizado evita congestionamietos,  a ambos lados una amplia zona  para corredores o simples caminadores  llena de pequenos cafes, restaurantes y bares para todos los gustos. Me impresiono la limpieza, la tranquilidad que en nuestros dias es un privilegio y AUSENCIA DE GRAFITI.  qUE HERMOSURA ES IMPERDIBLE.\"</td>\n",
              "      <td>5</td>\n",
              "    </tr>\n",
              "    <tr>\n",
              "      <th>10563</th>\n",
              "      <td>\"Festejando Dia del Amor y Amistad</td>\n",
              "      <td>\"Festejando Dia del Amor y Amistad</td>\n",
              "    </tr>\n",
              "    <tr>\n",
              "      <th>10564</th>\n",
              "      <td></td>\n",
              "      <td></td>\n",
              "    </tr>\n",
              "    <tr>\n",
              "      <th>10565</th>\n",
              "      <td>Te remonta a un restaurante o cafeteria de Paris. La ambientacion y los detalles hacen de este restaurante un lugar calido para pasar un rato con amigas o una cena romantica.  Las crepas son deliciosas prueba la de manzana...Mas\"</td>\n",
              "      <td>3</td>\n",
              "    </tr>\n",
              "  </tbody>\n",
              "</table>\n",
              "<p>10566 rows × 2 columns</p>\n",
              "</div>\n",
              "    <div class=\"colab-df-buttons\">\n",
              "\n",
              "  <div class=\"colab-df-container\">\n",
              "    <button class=\"colab-df-convert\" onclick=\"convertToInteractive('df-132b6f44-7f8c-4aa9-a3ed-2f375970a01d')\"\n",
              "            title=\"Convert this dataframe to an interactive table.\"\n",
              "            style=\"display:none;\">\n",
              "\n",
              "  <svg xmlns=\"http://www.w3.org/2000/svg\" height=\"24px\" viewBox=\"0 -960 960 960\">\n",
              "    <path d=\"M120-120v-720h720v720H120Zm60-500h600v-160H180v160Zm220 220h160v-160H400v160Zm0 220h160v-160H400v160ZM180-400h160v-160H180v160Zm440 0h160v-160H620v160ZM180-180h160v-160H180v160Zm440 0h160v-160H620v160Z\"/>\n",
              "  </svg>\n",
              "    </button>\n",
              "\n",
              "  <style>\n",
              "    .colab-df-container {\n",
              "      display:flex;\n",
              "      gap: 12px;\n",
              "    }\n",
              "\n",
              "    .colab-df-convert {\n",
              "      background-color: #E8F0FE;\n",
              "      border: none;\n",
              "      border-radius: 50%;\n",
              "      cursor: pointer;\n",
              "      display: none;\n",
              "      fill: #1967D2;\n",
              "      height: 32px;\n",
              "      padding: 0 0 0 0;\n",
              "      width: 32px;\n",
              "    }\n",
              "\n",
              "    .colab-df-convert:hover {\n",
              "      background-color: #E2EBFA;\n",
              "      box-shadow: 0px 1px 2px rgba(60, 64, 67, 0.3), 0px 1px 3px 1px rgba(60, 64, 67, 0.15);\n",
              "      fill: #174EA6;\n",
              "    }\n",
              "\n",
              "    .colab-df-buttons div {\n",
              "      margin-bottom: 4px;\n",
              "    }\n",
              "\n",
              "    [theme=dark] .colab-df-convert {\n",
              "      background-color: #3B4455;\n",
              "      fill: #D2E3FC;\n",
              "    }\n",
              "\n",
              "    [theme=dark] .colab-df-convert:hover {\n",
              "      background-color: #434B5C;\n",
              "      box-shadow: 0px 1px 3px 1px rgba(0, 0, 0, 0.15);\n",
              "      filter: drop-shadow(0px 1px 2px rgba(0, 0, 0, 0.3));\n",
              "      fill: #FFFFFF;\n",
              "    }\n",
              "  </style>\n",
              "\n",
              "    <script>\n",
              "      const buttonEl =\n",
              "        document.querySelector('#df-132b6f44-7f8c-4aa9-a3ed-2f375970a01d button.colab-df-convert');\n",
              "      buttonEl.style.display =\n",
              "        google.colab.kernel.accessAllowed ? 'block' : 'none';\n",
              "\n",
              "      async function convertToInteractive(key) {\n",
              "        const element = document.querySelector('#df-132b6f44-7f8c-4aa9-a3ed-2f375970a01d');\n",
              "        const dataTable =\n",
              "          await google.colab.kernel.invokeFunction('convertToInteractive',\n",
              "                                                    [key], {});\n",
              "        if (!dataTable) return;\n",
              "\n",
              "        const docLinkHtml = 'Like what you see? Visit the ' +\n",
              "          '<a target=\"_blank\" href=https://colab.research.google.com/notebooks/data_table.ipynb>data table notebook</a>'\n",
              "          + ' to learn more about interactive tables.';\n",
              "        element.innerHTML = '';\n",
              "        dataTable['output_type'] = 'display_data';\n",
              "        await google.colab.output.renderOutput(dataTable, element);\n",
              "        const docLink = document.createElement('div');\n",
              "        docLink.innerHTML = docLinkHtml;\n",
              "        element.appendChild(docLink);\n",
              "      }\n",
              "    </script>\n",
              "  </div>\n",
              "\n",
              "\n",
              "<div id=\"df-9b696ee5-7e4c-4cab-a772-9f4e98a3247d\">\n",
              "  <button class=\"colab-df-quickchart\" onclick=\"quickchart('df-9b696ee5-7e4c-4cab-a772-9f4e98a3247d')\"\n",
              "            title=\"Suggest charts\"\n",
              "            style=\"display:none;\">\n",
              "\n",
              "<svg xmlns=\"http://www.w3.org/2000/svg\" height=\"24px\"viewBox=\"0 0 24 24\"\n",
              "     width=\"24px\">\n",
              "    <g>\n",
              "        <path d=\"M19 3H5c-1.1 0-2 .9-2 2v14c0 1.1.9 2 2 2h14c1.1 0 2-.9 2-2V5c0-1.1-.9-2-2-2zM9 17H7v-7h2v7zm4 0h-2V7h2v10zm4 0h-2v-4h2v4z\"/>\n",
              "    </g>\n",
              "</svg>\n",
              "  </button>\n",
              "\n",
              "<style>\n",
              "  .colab-df-quickchart {\n",
              "      --bg-color: #E8F0FE;\n",
              "      --fill-color: #1967D2;\n",
              "      --hover-bg-color: #E2EBFA;\n",
              "      --hover-fill-color: #174EA6;\n",
              "      --disabled-fill-color: #AAA;\n",
              "      --disabled-bg-color: #DDD;\n",
              "  }\n",
              "\n",
              "  [theme=dark] .colab-df-quickchart {\n",
              "      --bg-color: #3B4455;\n",
              "      --fill-color: #D2E3FC;\n",
              "      --hover-bg-color: #434B5C;\n",
              "      --hover-fill-color: #FFFFFF;\n",
              "      --disabled-bg-color: #3B4455;\n",
              "      --disabled-fill-color: #666;\n",
              "  }\n",
              "\n",
              "  .colab-df-quickchart {\n",
              "    background-color: var(--bg-color);\n",
              "    border: none;\n",
              "    border-radius: 50%;\n",
              "    cursor: pointer;\n",
              "    display: none;\n",
              "    fill: var(--fill-color);\n",
              "    height: 32px;\n",
              "    padding: 0;\n",
              "    width: 32px;\n",
              "  }\n",
              "\n",
              "  .colab-df-quickchart:hover {\n",
              "    background-color: var(--hover-bg-color);\n",
              "    box-shadow: 0 1px 2px rgba(60, 64, 67, 0.3), 0 1px 3px 1px rgba(60, 64, 67, 0.15);\n",
              "    fill: var(--button-hover-fill-color);\n",
              "  }\n",
              "\n",
              "  .colab-df-quickchart-complete:disabled,\n",
              "  .colab-df-quickchart-complete:disabled:hover {\n",
              "    background-color: var(--disabled-bg-color);\n",
              "    fill: var(--disabled-fill-color);\n",
              "    box-shadow: none;\n",
              "  }\n",
              "\n",
              "  .colab-df-spinner {\n",
              "    border: 2px solid var(--fill-color);\n",
              "    border-color: transparent;\n",
              "    border-bottom-color: var(--fill-color);\n",
              "    animation:\n",
              "      spin 1s steps(1) infinite;\n",
              "  }\n",
              "\n",
              "  @keyframes spin {\n",
              "    0% {\n",
              "      border-color: transparent;\n",
              "      border-bottom-color: var(--fill-color);\n",
              "      border-left-color: var(--fill-color);\n",
              "    }\n",
              "    20% {\n",
              "      border-color: transparent;\n",
              "      border-left-color: var(--fill-color);\n",
              "      border-top-color: var(--fill-color);\n",
              "    }\n",
              "    30% {\n",
              "      border-color: transparent;\n",
              "      border-left-color: var(--fill-color);\n",
              "      border-top-color: var(--fill-color);\n",
              "      border-right-color: var(--fill-color);\n",
              "    }\n",
              "    40% {\n",
              "      border-color: transparent;\n",
              "      border-right-color: var(--fill-color);\n",
              "      border-top-color: var(--fill-color);\n",
              "    }\n",
              "    60% {\n",
              "      border-color: transparent;\n",
              "      border-right-color: var(--fill-color);\n",
              "    }\n",
              "    80% {\n",
              "      border-color: transparent;\n",
              "      border-right-color: var(--fill-color);\n",
              "      border-bottom-color: var(--fill-color);\n",
              "    }\n",
              "    90% {\n",
              "      border-color: transparent;\n",
              "      border-bottom-color: var(--fill-color);\n",
              "    }\n",
              "  }\n",
              "</style>\n",
              "\n",
              "  <script>\n",
              "    async function quickchart(key) {\n",
              "      const quickchartButtonEl =\n",
              "        document.querySelector('#' + key + ' button');\n",
              "      quickchartButtonEl.disabled = true;  // To prevent multiple clicks.\n",
              "      quickchartButtonEl.classList.add('colab-df-spinner');\n",
              "      try {\n",
              "        const charts = await google.colab.kernel.invokeFunction(\n",
              "            'suggestCharts', [key], {});\n",
              "      } catch (error) {\n",
              "        console.error('Error during call to suggestCharts:', error);\n",
              "      }\n",
              "      quickchartButtonEl.classList.remove('colab-df-spinner');\n",
              "      quickchartButtonEl.classList.add('colab-df-quickchart-complete');\n",
              "    }\n",
              "    (() => {\n",
              "      let quickchartButtonEl =\n",
              "        document.querySelector('#df-9b696ee5-7e4c-4cab-a772-9f4e98a3247d button');\n",
              "      quickchartButtonEl.style.display =\n",
              "        google.colab.kernel.accessAllowed ? 'block' : 'none';\n",
              "    })();\n",
              "  </script>\n",
              "</div>\n",
              "\n",
              "  <div id=\"id_35593d2b-38a3-403b-b7d9-613e0177e1c8\">\n",
              "    <style>\n",
              "      .colab-df-generate {\n",
              "        background-color: #E8F0FE;\n",
              "        border: none;\n",
              "        border-radius: 50%;\n",
              "        cursor: pointer;\n",
              "        display: none;\n",
              "        fill: #1967D2;\n",
              "        height: 32px;\n",
              "        padding: 0 0 0 0;\n",
              "        width: 32px;\n",
              "      }\n",
              "\n",
              "      .colab-df-generate:hover {\n",
              "        background-color: #E2EBFA;\n",
              "        box-shadow: 0px 1px 2px rgba(60, 64, 67, 0.3), 0px 1px 3px 1px rgba(60, 64, 67, 0.15);\n",
              "        fill: #174EA6;\n",
              "      }\n",
              "\n",
              "      [theme=dark] .colab-df-generate {\n",
              "        background-color: #3B4455;\n",
              "        fill: #D2E3FC;\n",
              "      }\n",
              "\n",
              "      [theme=dark] .colab-df-generate:hover {\n",
              "        background-color: #434B5C;\n",
              "        box-shadow: 0px 1px 3px 1px rgba(0, 0, 0, 0.15);\n",
              "        filter: drop-shadow(0px 1px 2px rgba(0, 0, 0, 0.3));\n",
              "        fill: #FFFFFF;\n",
              "      }\n",
              "    </style>\n",
              "    <button class=\"colab-df-generate\" onclick=\"generateWithVariable('data')\"\n",
              "            title=\"Generate code using this dataframe.\"\n",
              "            style=\"display:none;\">\n",
              "\n",
              "  <svg xmlns=\"http://www.w3.org/2000/svg\" height=\"24px\"viewBox=\"0 0 24 24\"\n",
              "       width=\"24px\">\n",
              "    <path d=\"M7,19H8.4L18.45,9,17,7.55,7,17.6ZM5,21V16.75L18.45,3.32a2,2,0,0,1,2.83,0l1.4,1.43a1.91,1.91,0,0,1,.58,1.4,1.91,1.91,0,0,1-.58,1.4L9.25,21ZM18.45,9,17,7.55Zm-12,3A5.31,5.31,0,0,0,4.9,8.1,5.31,5.31,0,0,0,1,6.5,5.31,5.31,0,0,0,4.9,4.9,5.31,5.31,0,0,0,6.5,1,5.31,5.31,0,0,0,8.1,4.9,5.31,5.31,0,0,0,12,6.5,5.46,5.46,0,0,0,6.5,12Z\"/>\n",
              "  </svg>\n",
              "    </button>\n",
              "    <script>\n",
              "      (() => {\n",
              "      const buttonEl =\n",
              "        document.querySelector('#id_35593d2b-38a3-403b-b7d9-613e0177e1c8 button.colab-df-generate');\n",
              "      buttonEl.style.display =\n",
              "        google.colab.kernel.accessAllowed ? 'block' : 'none';\n",
              "\n",
              "      buttonEl.onclick = () => {\n",
              "        google.colab.notebook.generateWithVariable('data');\n",
              "      }\n",
              "      })();\n",
              "    </script>\n",
              "  </div>\n",
              "\n",
              "    </div>\n",
              "  </div>\n"
            ],
            "application/vnd.google.colaboratory.intrinsic+json": {
              "type": "dataframe",
              "variable_name": "data",
              "summary": "{\n  \"name\": \"data\",\n  \"rows\": 10566,\n  \"fields\": [\n    {\n      \"column\": \"Review\",\n      \"properties\": {\n        \"dtype\": \"string\",\n        \"num_unique_values\": 9709,\n        \"samples\": [\n          \"\\\"El lugar es muy bonito, asi que optamos por comer ahi, sin embargo la comida nos desilusiono; la pasta portobello estaba sobre cocida y sin sabor, los hongos muy pequenitos\",\n          \"\\\"Tenia muchas expectativas de visitar el museo. La verdad, que gran decepcion. La museografia me parecio terrible. La iluminacion de las piezas muy mal disenada y los textos puestos en las vitrinas son ilegibles ya que estan presentados a una altura muy baja, obligando al visitante a agacharse por completo. Mucho edificio y poco contenido. Eso si, una placa gigantesca a la entrada conmemorando al  encargado de haber inaugurado el \\\"magno\\\" edificio.\\\"\",\n          \"Mala atencion\"\n        ],\n        \"semantic_type\": \"\",\n        \"description\": \"\"\n      }\n    },\n    {\n      \"column\": \"Class\",\n      \"properties\": {\n        \"dtype\": \"category\",\n        \"num_unique_values\": 1924,\n        \"samples\": [\n          \"bastante caros. El caf\\u00e9 siempre a parte.\",\n          \"tuvimos que esperar un rid\\u00edculamente mucho tiempo para nuestra cambiar.\",\n          \"Un cuartito de dos por dos donde est\\u00e1 minando turistas +60.\"\n        ],\n        \"semantic_type\": \"\",\n        \"description\": \"\"\n      }\n    }\n  ]\n}"
            }
          },
          "metadata": {}
        }
      ]
    },
    {
      "cell_type": "code",
      "source": [
        "data.shape"
      ],
      "metadata": {
        "colab": {
          "base_uri": "https://localhost:8080/"
        },
        "id": "N9eNysHPRHs_",
        "outputId": "bf6fab6b-8de4-403d-9841-c281060fecce"
      },
      "execution_count": null,
      "outputs": [
        {
          "output_type": "execute_result",
          "data": {
            "text/plain": [
              "(10566, 2)"
            ]
          },
          "metadata": {},
          "execution_count": 5
        }
      ]
    },
    {
      "cell_type": "markdown",
      "source": [
        "El cliente nos ha entregado 10566 datos. Sin embargo no creemos que los datos entregados hayan quedado correctos dado que venian con errores ortograficos y ademas algunos con valores NAN. Es por esto que es necesario empezar a limpiarlos para saber que tantos datos tenemos de calidad."
      ],
      "metadata": {
        "id": "jrv9lpLDYF27"
      }
    },
    {
      "cell_type": "markdown",
      "source": [
        "##**Descripción de datos**"
      ],
      "metadata": {
        "id": "Uwr2Ebwr1AF-"
      }
    },
    {
      "cell_type": "code",
      "source": [
        "data.describe()"
      ],
      "metadata": {
        "colab": {
          "base_uri": "https://localhost:8080/",
          "height": 175
        },
        "id": "cJPBOm4H09sq",
        "outputId": "312f49b9-e072-44aa-ee96-e847ab45dcdc"
      },
      "execution_count": null,
      "outputs": [
        {
          "output_type": "execute_result",
          "data": {
            "text/plain": [
              "       Review  Class\n",
              "count   10566  10566\n",
              "unique   9709   1924\n",
              "top                5\n",
              "freq      743   2350"
            ],
            "text/html": [
              "\n",
              "  <div id=\"df-330fabb6-16ed-4475-83ea-fe5feca26c34\" class=\"colab-df-container\">\n",
              "    <div>\n",
              "<style scoped>\n",
              "    .dataframe tbody tr th:only-of-type {\n",
              "        vertical-align: middle;\n",
              "    }\n",
              "\n",
              "    .dataframe tbody tr th {\n",
              "        vertical-align: top;\n",
              "    }\n",
              "\n",
              "    .dataframe thead th {\n",
              "        text-align: right;\n",
              "    }\n",
              "</style>\n",
              "<table border=\"1\" class=\"dataframe\">\n",
              "  <thead>\n",
              "    <tr style=\"text-align: right;\">\n",
              "      <th></th>\n",
              "      <th>Review</th>\n",
              "      <th>Class</th>\n",
              "    </tr>\n",
              "  </thead>\n",
              "  <tbody>\n",
              "    <tr>\n",
              "      <th>count</th>\n",
              "      <td>10566</td>\n",
              "      <td>10566</td>\n",
              "    </tr>\n",
              "    <tr>\n",
              "      <th>unique</th>\n",
              "      <td>9709</td>\n",
              "      <td>1924</td>\n",
              "    </tr>\n",
              "    <tr>\n",
              "      <th>top</th>\n",
              "      <td></td>\n",
              "      <td>5</td>\n",
              "    </tr>\n",
              "    <tr>\n",
              "      <th>freq</th>\n",
              "      <td>743</td>\n",
              "      <td>2350</td>\n",
              "    </tr>\n",
              "  </tbody>\n",
              "</table>\n",
              "</div>\n",
              "    <div class=\"colab-df-buttons\">\n",
              "\n",
              "  <div class=\"colab-df-container\">\n",
              "    <button class=\"colab-df-convert\" onclick=\"convertToInteractive('df-330fabb6-16ed-4475-83ea-fe5feca26c34')\"\n",
              "            title=\"Convert this dataframe to an interactive table.\"\n",
              "            style=\"display:none;\">\n",
              "\n",
              "  <svg xmlns=\"http://www.w3.org/2000/svg\" height=\"24px\" viewBox=\"0 -960 960 960\">\n",
              "    <path d=\"M120-120v-720h720v720H120Zm60-500h600v-160H180v160Zm220 220h160v-160H400v160Zm0 220h160v-160H400v160ZM180-400h160v-160H180v160Zm440 0h160v-160H620v160ZM180-180h160v-160H180v160Zm440 0h160v-160H620v160Z\"/>\n",
              "  </svg>\n",
              "    </button>\n",
              "\n",
              "  <style>\n",
              "    .colab-df-container {\n",
              "      display:flex;\n",
              "      gap: 12px;\n",
              "    }\n",
              "\n",
              "    .colab-df-convert {\n",
              "      background-color: #E8F0FE;\n",
              "      border: none;\n",
              "      border-radius: 50%;\n",
              "      cursor: pointer;\n",
              "      display: none;\n",
              "      fill: #1967D2;\n",
              "      height: 32px;\n",
              "      padding: 0 0 0 0;\n",
              "      width: 32px;\n",
              "    }\n",
              "\n",
              "    .colab-df-convert:hover {\n",
              "      background-color: #E2EBFA;\n",
              "      box-shadow: 0px 1px 2px rgba(60, 64, 67, 0.3), 0px 1px 3px 1px rgba(60, 64, 67, 0.15);\n",
              "      fill: #174EA6;\n",
              "    }\n",
              "\n",
              "    .colab-df-buttons div {\n",
              "      margin-bottom: 4px;\n",
              "    }\n",
              "\n",
              "    [theme=dark] .colab-df-convert {\n",
              "      background-color: #3B4455;\n",
              "      fill: #D2E3FC;\n",
              "    }\n",
              "\n",
              "    [theme=dark] .colab-df-convert:hover {\n",
              "      background-color: #434B5C;\n",
              "      box-shadow: 0px 1px 3px 1px rgba(0, 0, 0, 0.15);\n",
              "      filter: drop-shadow(0px 1px 2px rgba(0, 0, 0, 0.3));\n",
              "      fill: #FFFFFF;\n",
              "    }\n",
              "  </style>\n",
              "\n",
              "    <script>\n",
              "      const buttonEl =\n",
              "        document.querySelector('#df-330fabb6-16ed-4475-83ea-fe5feca26c34 button.colab-df-convert');\n",
              "      buttonEl.style.display =\n",
              "        google.colab.kernel.accessAllowed ? 'block' : 'none';\n",
              "\n",
              "      async function convertToInteractive(key) {\n",
              "        const element = document.querySelector('#df-330fabb6-16ed-4475-83ea-fe5feca26c34');\n",
              "        const dataTable =\n",
              "          await google.colab.kernel.invokeFunction('convertToInteractive',\n",
              "                                                    [key], {});\n",
              "        if (!dataTable) return;\n",
              "\n",
              "        const docLinkHtml = 'Like what you see? Visit the ' +\n",
              "          '<a target=\"_blank\" href=https://colab.research.google.com/notebooks/data_table.ipynb>data table notebook</a>'\n",
              "          + ' to learn more about interactive tables.';\n",
              "        element.innerHTML = '';\n",
              "        dataTable['output_type'] = 'display_data';\n",
              "        await google.colab.output.renderOutput(dataTable, element);\n",
              "        const docLink = document.createElement('div');\n",
              "        docLink.innerHTML = docLinkHtml;\n",
              "        element.appendChild(docLink);\n",
              "      }\n",
              "    </script>\n",
              "  </div>\n",
              "\n",
              "\n",
              "<div id=\"df-0dd55e0f-1635-4aa2-9f39-206c7c3ea4b1\">\n",
              "  <button class=\"colab-df-quickchart\" onclick=\"quickchart('df-0dd55e0f-1635-4aa2-9f39-206c7c3ea4b1')\"\n",
              "            title=\"Suggest charts\"\n",
              "            style=\"display:none;\">\n",
              "\n",
              "<svg xmlns=\"http://www.w3.org/2000/svg\" height=\"24px\"viewBox=\"0 0 24 24\"\n",
              "     width=\"24px\">\n",
              "    <g>\n",
              "        <path d=\"M19 3H5c-1.1 0-2 .9-2 2v14c0 1.1.9 2 2 2h14c1.1 0 2-.9 2-2V5c0-1.1-.9-2-2-2zM9 17H7v-7h2v7zm4 0h-2V7h2v10zm4 0h-2v-4h2v4z\"/>\n",
              "    </g>\n",
              "</svg>\n",
              "  </button>\n",
              "\n",
              "<style>\n",
              "  .colab-df-quickchart {\n",
              "      --bg-color: #E8F0FE;\n",
              "      --fill-color: #1967D2;\n",
              "      --hover-bg-color: #E2EBFA;\n",
              "      --hover-fill-color: #174EA6;\n",
              "      --disabled-fill-color: #AAA;\n",
              "      --disabled-bg-color: #DDD;\n",
              "  }\n",
              "\n",
              "  [theme=dark] .colab-df-quickchart {\n",
              "      --bg-color: #3B4455;\n",
              "      --fill-color: #D2E3FC;\n",
              "      --hover-bg-color: #434B5C;\n",
              "      --hover-fill-color: #FFFFFF;\n",
              "      --disabled-bg-color: #3B4455;\n",
              "      --disabled-fill-color: #666;\n",
              "  }\n",
              "\n",
              "  .colab-df-quickchart {\n",
              "    background-color: var(--bg-color);\n",
              "    border: none;\n",
              "    border-radius: 50%;\n",
              "    cursor: pointer;\n",
              "    display: none;\n",
              "    fill: var(--fill-color);\n",
              "    height: 32px;\n",
              "    padding: 0;\n",
              "    width: 32px;\n",
              "  }\n",
              "\n",
              "  .colab-df-quickchart:hover {\n",
              "    background-color: var(--hover-bg-color);\n",
              "    box-shadow: 0 1px 2px rgba(60, 64, 67, 0.3), 0 1px 3px 1px rgba(60, 64, 67, 0.15);\n",
              "    fill: var(--button-hover-fill-color);\n",
              "  }\n",
              "\n",
              "  .colab-df-quickchart-complete:disabled,\n",
              "  .colab-df-quickchart-complete:disabled:hover {\n",
              "    background-color: var(--disabled-bg-color);\n",
              "    fill: var(--disabled-fill-color);\n",
              "    box-shadow: none;\n",
              "  }\n",
              "\n",
              "  .colab-df-spinner {\n",
              "    border: 2px solid var(--fill-color);\n",
              "    border-color: transparent;\n",
              "    border-bottom-color: var(--fill-color);\n",
              "    animation:\n",
              "      spin 1s steps(1) infinite;\n",
              "  }\n",
              "\n",
              "  @keyframes spin {\n",
              "    0% {\n",
              "      border-color: transparent;\n",
              "      border-bottom-color: var(--fill-color);\n",
              "      border-left-color: var(--fill-color);\n",
              "    }\n",
              "    20% {\n",
              "      border-color: transparent;\n",
              "      border-left-color: var(--fill-color);\n",
              "      border-top-color: var(--fill-color);\n",
              "    }\n",
              "    30% {\n",
              "      border-color: transparent;\n",
              "      border-left-color: var(--fill-color);\n",
              "      border-top-color: var(--fill-color);\n",
              "      border-right-color: var(--fill-color);\n",
              "    }\n",
              "    40% {\n",
              "      border-color: transparent;\n",
              "      border-right-color: var(--fill-color);\n",
              "      border-top-color: var(--fill-color);\n",
              "    }\n",
              "    60% {\n",
              "      border-color: transparent;\n",
              "      border-right-color: var(--fill-color);\n",
              "    }\n",
              "    80% {\n",
              "      border-color: transparent;\n",
              "      border-right-color: var(--fill-color);\n",
              "      border-bottom-color: var(--fill-color);\n",
              "    }\n",
              "    90% {\n",
              "      border-color: transparent;\n",
              "      border-bottom-color: var(--fill-color);\n",
              "    }\n",
              "  }\n",
              "</style>\n",
              "\n",
              "  <script>\n",
              "    async function quickchart(key) {\n",
              "      const quickchartButtonEl =\n",
              "        document.querySelector('#' + key + ' button');\n",
              "      quickchartButtonEl.disabled = true;  // To prevent multiple clicks.\n",
              "      quickchartButtonEl.classList.add('colab-df-spinner');\n",
              "      try {\n",
              "        const charts = await google.colab.kernel.invokeFunction(\n",
              "            'suggestCharts', [key], {});\n",
              "      } catch (error) {\n",
              "        console.error('Error during call to suggestCharts:', error);\n",
              "      }\n",
              "      quickchartButtonEl.classList.remove('colab-df-spinner');\n",
              "      quickchartButtonEl.classList.add('colab-df-quickchart-complete');\n",
              "    }\n",
              "    (() => {\n",
              "      let quickchartButtonEl =\n",
              "        document.querySelector('#df-0dd55e0f-1635-4aa2-9f39-206c7c3ea4b1 button');\n",
              "      quickchartButtonEl.style.display =\n",
              "        google.colab.kernel.accessAllowed ? 'block' : 'none';\n",
              "    })();\n",
              "  </script>\n",
              "</div>\n",
              "\n",
              "    </div>\n",
              "  </div>\n"
            ],
            "application/vnd.google.colaboratory.intrinsic+json": {
              "type": "dataframe",
              "summary": "{\n  \"name\": \"data\",\n  \"rows\": 4,\n  \"fields\": [\n    {\n      \"column\": \"Review\",\n      \"properties\": {\n        \"dtype\": \"date\",\n        \"min\": \"1970-01-01 00:00:00.000000743\",\n        \"max\": \"1970-01-01 00:00:00.000010566\",\n        \"num_unique_values\": 4,\n        \"samples\": [\n          9709,\n          \"743\",\n          \"10566\"\n        ],\n        \"semantic_type\": \"\",\n        \"description\": \"\"\n      }\n    },\n    {\n      \"column\": \"Class\",\n      \"properties\": {\n        \"dtype\": \"string\",\n        \"num_unique_values\": 4,\n        \"samples\": [\n          1924,\n          \"2350\",\n          \"10566\"\n        ],\n        \"semantic_type\": \"\",\n        \"description\": \"\"\n      }\n    }\n  ]\n}"
            }
          },
          "metadata": {},
          "execution_count": 6
        }
      ]
    },
    {
      "cell_type": "markdown",
      "source": [
        "### Completitud\n",
        "\n",
        "En esta sección, analizaremos la completitud de los datos; es decir, que no hayan valores vacíos."
      ],
      "metadata": {
        "id": "TUTBjPTlYufg"
      }
    },
    {
      "cell_type": "code",
      "source": [
        "# Convertir la columna \"Class\" a tipo entero y eliminar filas con valores no numéricos\n",
        "data['Class'] = pd.to_numeric(data['Class'], errors='coerce')\n",
        "print(data.notnull().mean() * 100)"
      ],
      "metadata": {
        "colab": {
          "base_uri": "https://localhost:8080/"
        },
        "id": "1-UEE_grl9UE",
        "outputId": "6a3d1757-f545-4498-b384-b2efd4952b7f"
      },
      "execution_count": null,
      "outputs": [
        {
          "output_type": "stream",
          "name": "stdout",
          "text": [
            "Review    100.000000\n",
            "Class      74.531516\n",
            "dtype: float64\n"
          ]
        }
      ]
    },
    {
      "cell_type": "markdown",
      "source": [
        "Como la columna data es clave. No nos podemos permitir valores vacios. Es por esto que debemos quitar todos los NAN del data frame. Asumiremos una alta perdida de datos a cambio de estar seguros que estan impecables.\n",
        "\n",
        "El hecho de que el 74% de los datos en la columna \"Class\" estén completos nos da la confianza para eliminar las entradas incompletas. No tendría sentido imputarlos o reemplazarlos de alguna otra manera predictiva."
      ],
      "metadata": {
        "id": "OusozDuvY1hy"
      }
    },
    {
      "cell_type": "code",
      "source": [
        "data.shape"
      ],
      "metadata": {
        "colab": {
          "base_uri": "https://localhost:8080/"
        },
        "id": "w20Ee2InVUml",
        "outputId": "b64af285-0d76-450b-bc86-0d732b4c130d"
      },
      "execution_count": null,
      "outputs": [
        {
          "output_type": "execute_result",
          "data": {
            "text/plain": [
              "(10566, 2)"
            ]
          },
          "metadata": {},
          "execution_count": 8
        }
      ]
    },
    {
      "cell_type": "markdown",
      "source": [
        "### Validez\n",
        "\n",
        "Primero, revisamos la validez de los datos. Esto se refiere a verificar si todas las columnas cumplen con el tipo de dato que debería ser y que no haya  ningún *error*.\n"
      ],
      "metadata": {
        "id": "ypMDG8vcZ0st"
      }
    },
    {
      "cell_type": "code",
      "source": [
        "data.dtypes"
      ],
      "metadata": {
        "colab": {
          "base_uri": "https://localhost:8080/"
        },
        "id": "_GAopKYyZO_p",
        "outputId": "95600102-6df2-4ac8-ec6a-a5ec87a4f173"
      },
      "execution_count": null,
      "outputs": [
        {
          "output_type": "execute_result",
          "data": {
            "text/plain": [
              "Review     object\n",
              "Class     float64\n",
              "dtype: object"
            ]
          },
          "metadata": {},
          "execution_count": 9
        }
      ]
    },
    {
      "cell_type": "code",
      "source": [
        "data.shape"
      ],
      "metadata": {
        "colab": {
          "base_uri": "https://localhost:8080/"
        },
        "id": "1QxVlEbCan6v",
        "outputId": "0e063497-7cf8-46c1-d026-a0d9dfc856be"
      },
      "execution_count": null,
      "outputs": [
        {
          "output_type": "execute_result",
          "data": {
            "text/plain": [
              "(10566, 2)"
            ]
          },
          "metadata": {},
          "execution_count": 10
        }
      ]
    },
    {
      "cell_type": "markdown",
      "source": [
        "La entrada de los datos garantizamos que es valida y los tipos de variables son los adecuados para todos los datos."
      ],
      "metadata": {
        "id": "mwJ-_osand5H"
      }
    },
    {
      "cell_type": "markdown",
      "source": [
        "### Exactitud\n",
        "\n",
        "En esta sección, se busca ver que tan exactos son los datos y si no hay demasiados valores atípicos."
      ],
      "metadata": {
        "id": "LolwfdOznS5p"
      }
    },
    {
      "cell_type": "code",
      "source": [
        "data.describe()"
      ],
      "metadata": {
        "colab": {
          "base_uri": "https://localhost:8080/"
        },
        "id": "8nZ34TD6nW01",
        "outputId": "41b2ea38-dc99-4381-97ea-93ba4249d247"
      },
      "execution_count": null,
      "outputs": [
        {
          "output_type": "execute_result",
          "data": {
            "text/plain": [
              "             Class\n",
              "count  7875.000000\n",
              "mean      3.491683\n",
              "std       1.328275\n",
              "min       1.000000\n",
              "25%       2.000000\n",
              "50%       4.000000\n",
              "75%       5.000000\n",
              "max       5.000000"
            ],
            "text/html": [
              "\n",
              "  <div id=\"df-43dd8b10-fabd-46eb-816c-66a7b9284b2a\" class=\"colab-df-container\">\n",
              "    <div>\n",
              "<style scoped>\n",
              "    .dataframe tbody tr th:only-of-type {\n",
              "        vertical-align: middle;\n",
              "    }\n",
              "\n",
              "    .dataframe tbody tr th {\n",
              "        vertical-align: top;\n",
              "    }\n",
              "\n",
              "    .dataframe thead th {\n",
              "        text-align: right;\n",
              "    }\n",
              "</style>\n",
              "<table border=\"1\" class=\"dataframe\">\n",
              "  <thead>\n",
              "    <tr style=\"text-align: right;\">\n",
              "      <th></th>\n",
              "      <th>Class</th>\n",
              "    </tr>\n",
              "  </thead>\n",
              "  <tbody>\n",
              "    <tr>\n",
              "      <th>count</th>\n",
              "      <td>7875.000000</td>\n",
              "    </tr>\n",
              "    <tr>\n",
              "      <th>mean</th>\n",
              "      <td>3.491683</td>\n",
              "    </tr>\n",
              "    <tr>\n",
              "      <th>std</th>\n",
              "      <td>1.328275</td>\n",
              "    </tr>\n",
              "    <tr>\n",
              "      <th>min</th>\n",
              "      <td>1.000000</td>\n",
              "    </tr>\n",
              "    <tr>\n",
              "      <th>25%</th>\n",
              "      <td>2.000000</td>\n",
              "    </tr>\n",
              "    <tr>\n",
              "      <th>50%</th>\n",
              "      <td>4.000000</td>\n",
              "    </tr>\n",
              "    <tr>\n",
              "      <th>75%</th>\n",
              "      <td>5.000000</td>\n",
              "    </tr>\n",
              "    <tr>\n",
              "      <th>max</th>\n",
              "      <td>5.000000</td>\n",
              "    </tr>\n",
              "  </tbody>\n",
              "</table>\n",
              "</div>\n",
              "    <div class=\"colab-df-buttons\">\n",
              "\n",
              "  <div class=\"colab-df-container\">\n",
              "    <button class=\"colab-df-convert\" onclick=\"convertToInteractive('df-43dd8b10-fabd-46eb-816c-66a7b9284b2a')\"\n",
              "            title=\"Convert this dataframe to an interactive table.\"\n",
              "            style=\"display:none;\">\n",
              "\n",
              "  <svg xmlns=\"http://www.w3.org/2000/svg\" height=\"24px\" viewBox=\"0 -960 960 960\">\n",
              "    <path d=\"M120-120v-720h720v720H120Zm60-500h600v-160H180v160Zm220 220h160v-160H400v160Zm0 220h160v-160H400v160ZM180-400h160v-160H180v160Zm440 0h160v-160H620v160ZM180-180h160v-160H180v160Zm440 0h160v-160H620v160Z\"/>\n",
              "  </svg>\n",
              "    </button>\n",
              "\n",
              "  <style>\n",
              "    .colab-df-container {\n",
              "      display:flex;\n",
              "      gap: 12px;\n",
              "    }\n",
              "\n",
              "    .colab-df-convert {\n",
              "      background-color: #E8F0FE;\n",
              "      border: none;\n",
              "      border-radius: 50%;\n",
              "      cursor: pointer;\n",
              "      display: none;\n",
              "      fill: #1967D2;\n",
              "      height: 32px;\n",
              "      padding: 0 0 0 0;\n",
              "      width: 32px;\n",
              "    }\n",
              "\n",
              "    .colab-df-convert:hover {\n",
              "      background-color: #E2EBFA;\n",
              "      box-shadow: 0px 1px 2px rgba(60, 64, 67, 0.3), 0px 1px 3px 1px rgba(60, 64, 67, 0.15);\n",
              "      fill: #174EA6;\n",
              "    }\n",
              "\n",
              "    .colab-df-buttons div {\n",
              "      margin-bottom: 4px;\n",
              "    }\n",
              "\n",
              "    [theme=dark] .colab-df-convert {\n",
              "      background-color: #3B4455;\n",
              "      fill: #D2E3FC;\n",
              "    }\n",
              "\n",
              "    [theme=dark] .colab-df-convert:hover {\n",
              "      background-color: #434B5C;\n",
              "      box-shadow: 0px 1px 3px 1px rgba(0, 0, 0, 0.15);\n",
              "      filter: drop-shadow(0px 1px 2px rgba(0, 0, 0, 0.3));\n",
              "      fill: #FFFFFF;\n",
              "    }\n",
              "  </style>\n",
              "\n",
              "    <script>\n",
              "      const buttonEl =\n",
              "        document.querySelector('#df-43dd8b10-fabd-46eb-816c-66a7b9284b2a button.colab-df-convert');\n",
              "      buttonEl.style.display =\n",
              "        google.colab.kernel.accessAllowed ? 'block' : 'none';\n",
              "\n",
              "      async function convertToInteractive(key) {\n",
              "        const element = document.querySelector('#df-43dd8b10-fabd-46eb-816c-66a7b9284b2a');\n",
              "        const dataTable =\n",
              "          await google.colab.kernel.invokeFunction('convertToInteractive',\n",
              "                                                    [key], {});\n",
              "        if (!dataTable) return;\n",
              "\n",
              "        const docLinkHtml = 'Like what you see? Visit the ' +\n",
              "          '<a target=\"_blank\" href=https://colab.research.google.com/notebooks/data_table.ipynb>data table notebook</a>'\n",
              "          + ' to learn more about interactive tables.';\n",
              "        element.innerHTML = '';\n",
              "        dataTable['output_type'] = 'display_data';\n",
              "        await google.colab.output.renderOutput(dataTable, element);\n",
              "        const docLink = document.createElement('div');\n",
              "        docLink.innerHTML = docLinkHtml;\n",
              "        element.appendChild(docLink);\n",
              "      }\n",
              "    </script>\n",
              "  </div>\n",
              "\n",
              "\n",
              "<div id=\"df-17af3951-7f40-456e-ac5c-e8373f189b05\">\n",
              "  <button class=\"colab-df-quickchart\" onclick=\"quickchart('df-17af3951-7f40-456e-ac5c-e8373f189b05')\"\n",
              "            title=\"Suggest charts\"\n",
              "            style=\"display:none;\">\n",
              "\n",
              "<svg xmlns=\"http://www.w3.org/2000/svg\" height=\"24px\"viewBox=\"0 0 24 24\"\n",
              "     width=\"24px\">\n",
              "    <g>\n",
              "        <path d=\"M19 3H5c-1.1 0-2 .9-2 2v14c0 1.1.9 2 2 2h14c1.1 0 2-.9 2-2V5c0-1.1-.9-2-2-2zM9 17H7v-7h2v7zm4 0h-2V7h2v10zm4 0h-2v-4h2v4z\"/>\n",
              "    </g>\n",
              "</svg>\n",
              "  </button>\n",
              "\n",
              "<style>\n",
              "  .colab-df-quickchart {\n",
              "      --bg-color: #E8F0FE;\n",
              "      --fill-color: #1967D2;\n",
              "      --hover-bg-color: #E2EBFA;\n",
              "      --hover-fill-color: #174EA6;\n",
              "      --disabled-fill-color: #AAA;\n",
              "      --disabled-bg-color: #DDD;\n",
              "  }\n",
              "\n",
              "  [theme=dark] .colab-df-quickchart {\n",
              "      --bg-color: #3B4455;\n",
              "      --fill-color: #D2E3FC;\n",
              "      --hover-bg-color: #434B5C;\n",
              "      --hover-fill-color: #FFFFFF;\n",
              "      --disabled-bg-color: #3B4455;\n",
              "      --disabled-fill-color: #666;\n",
              "  }\n",
              "\n",
              "  .colab-df-quickchart {\n",
              "    background-color: var(--bg-color);\n",
              "    border: none;\n",
              "    border-radius: 50%;\n",
              "    cursor: pointer;\n",
              "    display: none;\n",
              "    fill: var(--fill-color);\n",
              "    height: 32px;\n",
              "    padding: 0;\n",
              "    width: 32px;\n",
              "  }\n",
              "\n",
              "  .colab-df-quickchart:hover {\n",
              "    background-color: var(--hover-bg-color);\n",
              "    box-shadow: 0 1px 2px rgba(60, 64, 67, 0.3), 0 1px 3px 1px rgba(60, 64, 67, 0.15);\n",
              "    fill: var(--button-hover-fill-color);\n",
              "  }\n",
              "\n",
              "  .colab-df-quickchart-complete:disabled,\n",
              "  .colab-df-quickchart-complete:disabled:hover {\n",
              "    background-color: var(--disabled-bg-color);\n",
              "    fill: var(--disabled-fill-color);\n",
              "    box-shadow: none;\n",
              "  }\n",
              "\n",
              "  .colab-df-spinner {\n",
              "    border: 2px solid var(--fill-color);\n",
              "    border-color: transparent;\n",
              "    border-bottom-color: var(--fill-color);\n",
              "    animation:\n",
              "      spin 1s steps(1) infinite;\n",
              "  }\n",
              "\n",
              "  @keyframes spin {\n",
              "    0% {\n",
              "      border-color: transparent;\n",
              "      border-bottom-color: var(--fill-color);\n",
              "      border-left-color: var(--fill-color);\n",
              "    }\n",
              "    20% {\n",
              "      border-color: transparent;\n",
              "      border-left-color: var(--fill-color);\n",
              "      border-top-color: var(--fill-color);\n",
              "    }\n",
              "    30% {\n",
              "      border-color: transparent;\n",
              "      border-left-color: var(--fill-color);\n",
              "      border-top-color: var(--fill-color);\n",
              "      border-right-color: var(--fill-color);\n",
              "    }\n",
              "    40% {\n",
              "      border-color: transparent;\n",
              "      border-right-color: var(--fill-color);\n",
              "      border-top-color: var(--fill-color);\n",
              "    }\n",
              "    60% {\n",
              "      border-color: transparent;\n",
              "      border-right-color: var(--fill-color);\n",
              "    }\n",
              "    80% {\n",
              "      border-color: transparent;\n",
              "      border-right-color: var(--fill-color);\n",
              "      border-bottom-color: var(--fill-color);\n",
              "    }\n",
              "    90% {\n",
              "      border-color: transparent;\n",
              "      border-bottom-color: var(--fill-color);\n",
              "    }\n",
              "  }\n",
              "</style>\n",
              "\n",
              "  <script>\n",
              "    async function quickchart(key) {\n",
              "      const quickchartButtonEl =\n",
              "        document.querySelector('#' + key + ' button');\n",
              "      quickchartButtonEl.disabled = true;  // To prevent multiple clicks.\n",
              "      quickchartButtonEl.classList.add('colab-df-spinner');\n",
              "      try {\n",
              "        const charts = await google.colab.kernel.invokeFunction(\n",
              "            'suggestCharts', [key], {});\n",
              "      } catch (error) {\n",
              "        console.error('Error during call to suggestCharts:', error);\n",
              "      }\n",
              "      quickchartButtonEl.classList.remove('colab-df-spinner');\n",
              "      quickchartButtonEl.classList.add('colab-df-quickchart-complete');\n",
              "    }\n",
              "    (() => {\n",
              "      let quickchartButtonEl =\n",
              "        document.querySelector('#df-17af3951-7f40-456e-ac5c-e8373f189b05 button');\n",
              "      quickchartButtonEl.style.display =\n",
              "        google.colab.kernel.accessAllowed ? 'block' : 'none';\n",
              "    })();\n",
              "  </script>\n",
              "</div>\n",
              "\n",
              "    </div>\n",
              "  </div>\n"
            ],
            "application/vnd.google.colaboratory.intrinsic+json": {
              "type": "dataframe",
              "summary": "{\n  \"name\": \"data\",\n  \"rows\": 8,\n  \"fields\": [\n    {\n      \"column\": \"Class\",\n      \"properties\": {\n        \"dtype\": \"number\",\n        \"std\": 2783.1313114289655,\n        \"min\": 1.0,\n        \"max\": 7875.0,\n        \"num_unique_values\": 7,\n        \"samples\": [\n          7875.0,\n          3.4916825396825395,\n          4.0\n        ],\n        \"semantic_type\": \"\",\n        \"description\": \"\"\n      }\n    }\n  ]\n}"
            }
          },
          "metadata": {},
          "execution_count": 11
        }
      ]
    },
    {
      "cell_type": "markdown",
      "source": [
        "podemos ver como  los valores de la clase estan estan adecuadamente entre los valores 1 y 5. No hay ningun dato fuera de lo establecido."
      ],
      "metadata": {
        "id": "3OgDROGmo1-9"
      }
    },
    {
      "cell_type": "markdown",
      "source": [
        "###**Unicidad**"
      ],
      "metadata": {
        "id": "88LrObHM1QWQ"
      }
    },
    {
      "cell_type": "markdown",
      "source": [
        "Se detecta la presencia de 85 datos duplicados en el modelo. Con el fin de evitar la distorsión de la importancia de algún dato, se procedera a eliminar la duplicidad, asegurando de esta forma que todas las entradas tengan la misma relevancia. Dado que son únicamente 85 los datos duplicados, su eliminación si generará cambios significativos en el modelo. El eliminar los datos repetidos soluciona esta problemática, dado que se conservará un único registro por entrada."
      ],
      "metadata": {
        "id": "tSmEfKmO1W1-"
      }
    },
    {
      "cell_type": "code",
      "source": [
        "data.duplicated().sum()"
      ],
      "metadata": {
        "colab": {
          "base_uri": "https://localhost:8080/"
        },
        "id": "CNQkk5QW1R4b",
        "outputId": "6d3bf469-34f2-4ed5-b8dc-1e64a4d57862"
      },
      "execution_count": null,
      "outputs": [
        {
          "output_type": "execute_result",
          "data": {
            "text/plain": [
              "850"
            ]
          },
          "metadata": {},
          "execution_count": 12
        }
      ]
    },
    {
      "cell_type": "markdown",
      "source": [
        "###**Consistencia**"
      ],
      "metadata": {
        "id": "Hjggnnmy3PUa"
      }
    },
    {
      "cell_type": "markdown",
      "source": [
        "Se identifica una consistencia estructural en los datos, en donde cada columna respectivamente corresponde al tipo de datos que debe ser asignado, la columna de Review debe corresponder a texto, y la columna class debe ser un valor numérico entero, tal y como se puede evidenciar en los datos ya mostrados anteriormente."
      ],
      "metadata": {
        "id": "_YUuibff3VDJ"
      }
    },
    {
      "cell_type": "markdown",
      "source": [
        "##**Limpieza de datos**"
      ],
      "metadata": {
        "id": "ZRY2uZGj4UkW"
      }
    },
    {
      "cell_type": "code",
      "source": [
        "dfCopia = data.copy()"
      ],
      "metadata": {
        "id": "PvWwErIL4WRK"
      },
      "execution_count": null,
      "outputs": []
    },
    {
      "cell_type": "markdown",
      "source": [
        "**Corrección Completitud**"
      ],
      "metadata": {
        "id": "0XEC5Ma54bGm"
      }
    },
    {
      "cell_type": "markdown",
      "source": [
        "Con el propósito de abordar la problemática relacionada con los valores nulos, se ha optado por la eliminación de los registros que presentan dichos valores. Esta decisión se fundamenta en la restricción del algoritmo que se tiene previsto implementar, el cual no permite la presencia de valores nulos. Considerando que la cantidad de valores faltantes es reducida y que su eliminación no tendrá un impacto significativo en el modelo, se procederá a eliminarlos de la base de datos."
      ],
      "metadata": {
        "id": "5C46x8gL4eAV"
      }
    },
    {
      "cell_type": "code",
      "source": [
        "dfCopia = dfCopia.dropna()"
      ],
      "metadata": {
        "id": "HvAMi-5o4iVo"
      },
      "execution_count": null,
      "outputs": []
    },
    {
      "cell_type": "code",
      "source": [
        "nueva_completitud = dfCopia.count() / len(dfCopia) * 100\n",
        "print(nueva_completitud)"
      ],
      "metadata": {
        "colab": {
          "base_uri": "https://localhost:8080/"
        },
        "id": "ZJ_z5Bnt4njN",
        "outputId": "f235e963-a238-4844-d805-b0f8bfddea21"
      },
      "execution_count": null,
      "outputs": [
        {
          "output_type": "stream",
          "name": "stdout",
          "text": [
            "Review    100.0\n",
            "Class     100.0\n",
            "dtype: float64\n"
          ]
        }
      ]
    },
    {
      "cell_type": "markdown",
      "source": [
        "**Corrección Consistencia**"
      ],
      "metadata": {
        "id": "zmlaoUGp4wXF"
      }
    },
    {
      "cell_type": "code",
      "source": [
        "dfCopia['Review'] = dfCopia['Review'].str.lower()\n",
        "pd.value_counts(dfCopia['Review'])"
      ],
      "metadata": {
        "colab": {
          "base_uri": "https://localhost:8080/"
        },
        "id": "Qfb0T2Cx4yhl",
        "outputId": "a399a1f9-6ee7-4fcd-aaec-16beb3b2b2db"
      },
      "execution_count": null,
      "outputs": [
        {
          "output_type": "execute_result",
          "data": {
            "text/plain": [
              "Review\n",
              "leer menos\"                                                                                                                                                                                                                                                                                                                                                                                                                                                                                                                                                                                                                                                                                                                                                                                                                15\n",
              "\"el lugar es una maravilla que merece ser visitado. el servicio de cobro es pesimo y no es por el dinero porque mucha gente entra gratis, se hacen filas de mas de 1 hora para pasar a pleno sol y mucha gente se mete disque al bano y no hace fila. esta muy desorganizado.\"                                                                                                                                                                                                                                                                                                                                                                                                                                                                                                                                             12\n",
              "pagamos un precio completo para una visita minima.hay un recorrido muy pequeno:  no es possible salir del recorrido y ir alrededor de los monumentos como se puede hacer a palenque o  teatihuacan o muchos otros sitios pero el peor es que no se puede ver el tajin chico ni tampoco la gran greca sin hablar del museo... solo se puede ver el tajin viejo y malo no se justifica eso es un puro robo y un falta de respecto del visitante y lo repito : pagamos el precio completo.!!!!                                                                                                                                                                                                                                                                                                                                 7\n",
              "\"cierran a las 3 pm, cobraron $85 adultos y ninos (por lo menos los de 2 anos) y adulto mayor gratis. a la entrada hay guias.  se juntan grupos de minimo 10 personas y te cobran $70 por persona o $700 a quien se los pague. excelente explicacion y atencion de parte de ellos. poca claridad de informacion en redes, y el numero telefonico no sirve. llegamos facilmente con waze. lleven buen bloqueador, sombrero y de preferencia tenis.\"                                                                                                                                                                                                                                                                                                                                                                          7\n",
              "la zona arqueologica esta cerrada. paso un huracan/tornado y el gobierno no ha hecho nada para reabrirlo.los locales dependen mucho del turismo y esto les esta afectando.recorri dos horas de carretera solo para descubrir que estaba cerrado!!!                                                                                                                                                                                                                                                                                                                                                                                                                                                                                                                                                                          6\n",
              "                                                                                                                                                                                                                                                                                                                                                                                                                                                                                                                                                                                                                                                                                                                                                                                                                           ..\n",
              "solo tiene valor la visita por el valor...mas\"                                                                                                                                                                                                                                                                                                                                                                                                                                                                                                                                                                                                                                                                                                                                                                              1\n",
              "crema de chaya, sopa de lima y papadzules mi...mas\"                                                                                                                                                                                                                                                                                                                                                                                                                                                                                                                                                                                                                                                                                                                                                                         1\n",
              "\"en general el hotel es bueno, esta en la zona de miramar, si esta retirado del centro historico, pero lo bueno es que cuenta el hotel con un autobus que sale a diferentes horas para que a los huespedes nos lleven, otro detalle destacable de este hotel es  la alberca esta bien disenada y bonita, el bufete del desayuno no es muy variado, en general la atencion es amable. el aspecto negativo es que las camas que nos tocaron estaban muy usadas ya que rechinaban y parecian camas de agua. por favor que pongan mas atencion en esto ya que despues de caminar y caminar por andar turisteando, lo que quiere uno es llegar a descansar en camas comodas y confortables, despues de todo pagamos un 5 estrellas.\"                                                                                             1\n",
              "\"hotel sin agua caliente. sucio. los banos en comunes un olor expantoso.... al llegar el dia 9 de marzo al hotel  con una menor de 2 anos. dispuestos a tomar una ducha, nos damos que no habia agua caliente, ni tibia, bajo hacer el reclamo la srta nos cambia a la habitacion 220. la cual gui a ver si estaba en condiciones y si tenia agua. al abrir la puerta el olor nauceabundo, suviedad, paredes  que se caian a pedazos, hasta la misma puerta se caia. baje hacer de nuevo el reclamo, la misma srta me decia que no tenia otra habitacion hasta que un companero  de ella escucho la conversacion  a la cual le reclamaba, se asomo y comento  que esa habitacion  estaba clausurada!!!!!!. sin medir riesgos a los q corriamos. no entiendo como esta habilitada esta posilga que lo unico de lindo...\"     1\n",
              "te remonta a un restaurante o cafeteria de paris. la ambientacion y los detalles hacen de este restaurante un lugar calido para pasar un rato con amigas o una cena romantica.  las crepas son deliciosas prueba la de manzana...mas\"                                                                                                                                                                                                                                                                                                                                                                                                                                                                                                                                                                                       1\n",
              "Name: count, Length: 7783, dtype: int64"
            ]
          },
          "metadata": {},
          "execution_count": 16
        }
      ]
    },
    {
      "cell_type": "markdown",
      "source": [
        "**Correccion Unicidad**"
      ],
      "metadata": {
        "id": "CbGIqKWs5xBq"
      }
    },
    {
      "cell_type": "code",
      "source": [
        "dfCopia = dfCopia.drop_duplicates()"
      ],
      "metadata": {
        "id": "Ya9KvaQ-5yqo"
      },
      "execution_count": null,
      "outputs": []
    },
    {
      "cell_type": "code",
      "source": [
        "data=dfCopia\n",
        "dfCopia"
      ],
      "metadata": {
        "colab": {
          "base_uri": "https://localhost:8080/",
          "height": 979
        },
        "id": "BCYT9w_X5PxO",
        "outputId": "af5b26ad-2e1e-4965-cc85-1927c8557a4c"
      },
      "execution_count": null,
      "outputs": [
        {
          "output_type": "execute_result",
          "data": {
            "text/plain": [
              "                                                                                                                                                                                                                                                                                                                                                                                                                                                                                                                                                                                                                                                  Review  \\\n",
              "1                                                                                                                                                                                                                     \"nos alojamos en una casa alquilada en la ciudad amurallada. parecia tan segura como cualquier otra gran ciudad con un monton de buenos restaurantes, tiendas y vida nocturna. gran lugar para un grupo con intereses variados, no estoy seguro de que le traiga a los ninos aqui solo porque no hay mucho que hacer para ellos. asegurate de aventurarse fuera de la ciudad, pero algunos tambien es un gran lugar para alojarse\"   \n",
              "2                                                                                                                                                                                                                                                                                                                                                                              \"la comida esta bien, pero nada especial. yo tenia mejor comida mexcan en los estados unidos. las margaritas eran geniales. el mahi mahi pescado recocido y seco. la carne fajitas aceptable y el coco camarones sabroso. el tortilla chips aperitivo fue decepcionante.\"   \n",
              "3                 \"en mi opinion, no es una como muchos usuarios reclaman. es un gran paladar que parece ser una parada con muchos grupos de excursion. el menu es mas interesante que los otros restaurantes comimos en. la parte mas interesante de la experiencia es que el...edificio esta en una seccion de la habana centro. las plantas inferiores estan muy deteriorados, y tienen apartamentos donde viven muchos trabajadores de restaurante. los pisos superiores, donde el restaurante es, han sido restauradas a gloria pasada. las reservas son imprescindibles. plan de 40 a 50 cuc por persona para una comida con cocteles y vinos.mas\"   \n",
              "4                                                                                                                                                                                                                                                                                                                                                                                                                                                                 \"esta curiosa forma que asemeja una silla de montar de ahi su nombre es el icono de la ciudad, vale mucho la pena si no puedes ubir lo puedes asdnirr de cualquier punto de la ciudad\"   \n",
              "5                                                                                                                                                                                                                                                                                                                                                                                                                                                                                                                                                               lo mejor era la limonada. me gusto la comida de todo el mundo y era sosa y un poco frio.   \n",
              "...                                                                                                                                                                                                                                                                                                                                                                                                                                                                                                                                                                                                                                                  ...   \n",
              "10559  \"el motivo de mi estancia fue porque vine a un congreso medico, y me hospedaron en este lugar, las instalaciones estan bien sin ser excelentes, la habitacion bien pero tardaban casi todo el dia en llegar a hacer el aseo y arreglar el cuarto, la verdad siempre quedaba un poco sucio, la regadera tenia tapado el desague por lo que se hacia una alberca, los alimentos buenos (rescatable el pan que acompanan con cafe)  lo que si es muy bueno es la gente que trabaja en el hotel, son super amables y serviciales.  este hotel es una buena opcion para su estancia ademas que esta a 3 cuadras de paseo montejo.  saludos desde aca \"   \n",
              "10560                \"es dificil revisar el castillo porque apenas podiamos caminar por el sofocante calor, pero no creo que puedas apreciar completamente este lugar a menos que tenia un guia o eran un historiador. de lo contrario, es un gran monticulo de cemento con algunos espeluznante, oscuros tuneles dentro. nada es realmente marcados o explico excepto por una pequena tienda de regalos y una sala de informacion que incluye un extrano, uniforme de viejo y sucio, montada en un soldado mannequen sin cabeza, asi que puedes llevar tu imagen. fuimos porque no hay mucho mas que hacer, pero definitivamente no es la vida cambia.\"   \n",
              "10561                                                                                                                                                                                                                                                                                                                                                                                                                                                                         \"si vas a merida no puedes perderte de este lugar y que tiene una nueva sucursal mas amplia y con la misma calidad, excelente servicio y comida deliciosa y bien servida.\"   \n",
              "10562                                                                                                                                                                                                         \"este imperdible sitio, que lleva el nombre del conquistador, es una joya urbana.su amplitud para  el trafico local motorizado evita congestionamietos,  a ambos lados una amplia zona  para corredores o simples caminadores  llena de pequenos cafes, restaurantes y bares para todos los gustos. me impresiono la limpieza, la tranquilidad que en nuestros dias es un privilegio y ausencia de grafiti.  que hermosura es imperdible.\"   \n",
              "10565                                                                                                                                                                                                                                                                                                                                                                                                              te remonta a un restaurante o cafeteria de paris. la ambientacion y los detalles hacen de este restaurante un lugar calido para pasar un rato con amigas o una cena romantica.  las crepas son deliciosas prueba la de manzana...mas\"   \n",
              "\n",
              "       Class  \n",
              "1        4.0  \n",
              "2        3.0  \n",
              "3        3.0  \n",
              "4        4.0  \n",
              "5        2.0  \n",
              "...      ...  \n",
              "10559    3.0  \n",
              "10560    3.0  \n",
              "10561    5.0  \n",
              "10562    5.0  \n",
              "10565    3.0  \n",
              "\n",
              "[7790 rows x 2 columns]"
            ],
            "text/html": [
              "\n",
              "  <div id=\"df-1a44b11c-b21e-472a-b73d-fc9d3b9af9c4\" class=\"colab-df-container\">\n",
              "    <div>\n",
              "<style scoped>\n",
              "    .dataframe tbody tr th:only-of-type {\n",
              "        vertical-align: middle;\n",
              "    }\n",
              "\n",
              "    .dataframe tbody tr th {\n",
              "        vertical-align: top;\n",
              "    }\n",
              "\n",
              "    .dataframe thead th {\n",
              "        text-align: right;\n",
              "    }\n",
              "</style>\n",
              "<table border=\"1\" class=\"dataframe\">\n",
              "  <thead>\n",
              "    <tr style=\"text-align: right;\">\n",
              "      <th></th>\n",
              "      <th>Review</th>\n",
              "      <th>Class</th>\n",
              "    </tr>\n",
              "  </thead>\n",
              "  <tbody>\n",
              "    <tr>\n",
              "      <th>1</th>\n",
              "      <td>\"nos alojamos en una casa alquilada en la ciudad amurallada. parecia tan segura como cualquier otra gran ciudad con un monton de buenos restaurantes, tiendas y vida nocturna. gran lugar para un grupo con intereses variados, no estoy seguro de que le traiga a los ninos aqui solo porque no hay mucho que hacer para ellos. asegurate de aventurarse fuera de la ciudad, pero algunos tambien es un gran lugar para alojarse\"</td>\n",
              "      <td>4.0</td>\n",
              "    </tr>\n",
              "    <tr>\n",
              "      <th>2</th>\n",
              "      <td>\"la comida esta bien, pero nada especial. yo tenia mejor comida mexcan en los estados unidos. las margaritas eran geniales. el mahi mahi pescado recocido y seco. la carne fajitas aceptable y el coco camarones sabroso. el tortilla chips aperitivo fue decepcionante.\"</td>\n",
              "      <td>3.0</td>\n",
              "    </tr>\n",
              "    <tr>\n",
              "      <th>3</th>\n",
              "      <td>\"en mi opinion, no es una como muchos usuarios reclaman. es un gran paladar que parece ser una parada con muchos grupos de excursion. el menu es mas interesante que los otros restaurantes comimos en. la parte mas interesante de la experiencia es que el...edificio esta en una seccion de la habana centro. las plantas inferiores estan muy deteriorados, y tienen apartamentos donde viven muchos trabajadores de restaurante. los pisos superiores, donde el restaurante es, han sido restauradas a gloria pasada. las reservas son imprescindibles. plan de 40 a 50 cuc por persona para una comida con cocteles y vinos.mas\"</td>\n",
              "      <td>3.0</td>\n",
              "    </tr>\n",
              "    <tr>\n",
              "      <th>4</th>\n",
              "      <td>\"esta curiosa forma que asemeja una silla de montar de ahi su nombre es el icono de la ciudad, vale mucho la pena si no puedes ubir lo puedes asdnirr de cualquier punto de la ciudad\"</td>\n",
              "      <td>4.0</td>\n",
              "    </tr>\n",
              "    <tr>\n",
              "      <th>5</th>\n",
              "      <td>lo mejor era la limonada. me gusto la comida de todo el mundo y era sosa y un poco frio.</td>\n",
              "      <td>2.0</td>\n",
              "    </tr>\n",
              "    <tr>\n",
              "      <th>...</th>\n",
              "      <td>...</td>\n",
              "      <td>...</td>\n",
              "    </tr>\n",
              "    <tr>\n",
              "      <th>10559</th>\n",
              "      <td>\"el motivo de mi estancia fue porque vine a un congreso medico, y me hospedaron en este lugar, las instalaciones estan bien sin ser excelentes, la habitacion bien pero tardaban casi todo el dia en llegar a hacer el aseo y arreglar el cuarto, la verdad siempre quedaba un poco sucio, la regadera tenia tapado el desague por lo que se hacia una alberca, los alimentos buenos (rescatable el pan que acompanan con cafe)  lo que si es muy bueno es la gente que trabaja en el hotel, son super amables y serviciales.  este hotel es una buena opcion para su estancia ademas que esta a 3 cuadras de paseo montejo.  saludos desde aca \"</td>\n",
              "      <td>3.0</td>\n",
              "    </tr>\n",
              "    <tr>\n",
              "      <th>10560</th>\n",
              "      <td>\"es dificil revisar el castillo porque apenas podiamos caminar por el sofocante calor, pero no creo que puedas apreciar completamente este lugar a menos que tenia un guia o eran un historiador. de lo contrario, es un gran monticulo de cemento con algunos espeluznante, oscuros tuneles dentro. nada es realmente marcados o explico excepto por una pequena tienda de regalos y una sala de informacion que incluye un extrano, uniforme de viejo y sucio, montada en un soldado mannequen sin cabeza, asi que puedes llevar tu imagen. fuimos porque no hay mucho mas que hacer, pero definitivamente no es la vida cambia.\"</td>\n",
              "      <td>3.0</td>\n",
              "    </tr>\n",
              "    <tr>\n",
              "      <th>10561</th>\n",
              "      <td>\"si vas a merida no puedes perderte de este lugar y que tiene una nueva sucursal mas amplia y con la misma calidad, excelente servicio y comida deliciosa y bien servida.\"</td>\n",
              "      <td>5.0</td>\n",
              "    </tr>\n",
              "    <tr>\n",
              "      <th>10562</th>\n",
              "      <td>\"este imperdible sitio, que lleva el nombre del conquistador, es una joya urbana.su amplitud para  el trafico local motorizado evita congestionamietos,  a ambos lados una amplia zona  para corredores o simples caminadores  llena de pequenos cafes, restaurantes y bares para todos los gustos. me impresiono la limpieza, la tranquilidad que en nuestros dias es un privilegio y ausencia de grafiti.  que hermosura es imperdible.\"</td>\n",
              "      <td>5.0</td>\n",
              "    </tr>\n",
              "    <tr>\n",
              "      <th>10565</th>\n",
              "      <td>te remonta a un restaurante o cafeteria de paris. la ambientacion y los detalles hacen de este restaurante un lugar calido para pasar un rato con amigas o una cena romantica.  las crepas son deliciosas prueba la de manzana...mas\"</td>\n",
              "      <td>3.0</td>\n",
              "    </tr>\n",
              "  </tbody>\n",
              "</table>\n",
              "<p>7790 rows × 2 columns</p>\n",
              "</div>\n",
              "    <div class=\"colab-df-buttons\">\n",
              "\n",
              "  <div class=\"colab-df-container\">\n",
              "    <button class=\"colab-df-convert\" onclick=\"convertToInteractive('df-1a44b11c-b21e-472a-b73d-fc9d3b9af9c4')\"\n",
              "            title=\"Convert this dataframe to an interactive table.\"\n",
              "            style=\"display:none;\">\n",
              "\n",
              "  <svg xmlns=\"http://www.w3.org/2000/svg\" height=\"24px\" viewBox=\"0 -960 960 960\">\n",
              "    <path d=\"M120-120v-720h720v720H120Zm60-500h600v-160H180v160Zm220 220h160v-160H400v160Zm0 220h160v-160H400v160ZM180-400h160v-160H180v160Zm440 0h160v-160H620v160ZM180-180h160v-160H180v160Zm440 0h160v-160H620v160Z\"/>\n",
              "  </svg>\n",
              "    </button>\n",
              "\n",
              "  <style>\n",
              "    .colab-df-container {\n",
              "      display:flex;\n",
              "      gap: 12px;\n",
              "    }\n",
              "\n",
              "    .colab-df-convert {\n",
              "      background-color: #E8F0FE;\n",
              "      border: none;\n",
              "      border-radius: 50%;\n",
              "      cursor: pointer;\n",
              "      display: none;\n",
              "      fill: #1967D2;\n",
              "      height: 32px;\n",
              "      padding: 0 0 0 0;\n",
              "      width: 32px;\n",
              "    }\n",
              "\n",
              "    .colab-df-convert:hover {\n",
              "      background-color: #E2EBFA;\n",
              "      box-shadow: 0px 1px 2px rgba(60, 64, 67, 0.3), 0px 1px 3px 1px rgba(60, 64, 67, 0.15);\n",
              "      fill: #174EA6;\n",
              "    }\n",
              "\n",
              "    .colab-df-buttons div {\n",
              "      margin-bottom: 4px;\n",
              "    }\n",
              "\n",
              "    [theme=dark] .colab-df-convert {\n",
              "      background-color: #3B4455;\n",
              "      fill: #D2E3FC;\n",
              "    }\n",
              "\n",
              "    [theme=dark] .colab-df-convert:hover {\n",
              "      background-color: #434B5C;\n",
              "      box-shadow: 0px 1px 3px 1px rgba(0, 0, 0, 0.15);\n",
              "      filter: drop-shadow(0px 1px 2px rgba(0, 0, 0, 0.3));\n",
              "      fill: #FFFFFF;\n",
              "    }\n",
              "  </style>\n",
              "\n",
              "    <script>\n",
              "      const buttonEl =\n",
              "        document.querySelector('#df-1a44b11c-b21e-472a-b73d-fc9d3b9af9c4 button.colab-df-convert');\n",
              "      buttonEl.style.display =\n",
              "        google.colab.kernel.accessAllowed ? 'block' : 'none';\n",
              "\n",
              "      async function convertToInteractive(key) {\n",
              "        const element = document.querySelector('#df-1a44b11c-b21e-472a-b73d-fc9d3b9af9c4');\n",
              "        const dataTable =\n",
              "          await google.colab.kernel.invokeFunction('convertToInteractive',\n",
              "                                                    [key], {});\n",
              "        if (!dataTable) return;\n",
              "\n",
              "        const docLinkHtml = 'Like what you see? Visit the ' +\n",
              "          '<a target=\"_blank\" href=https://colab.research.google.com/notebooks/data_table.ipynb>data table notebook</a>'\n",
              "          + ' to learn more about interactive tables.';\n",
              "        element.innerHTML = '';\n",
              "        dataTable['output_type'] = 'display_data';\n",
              "        await google.colab.output.renderOutput(dataTable, element);\n",
              "        const docLink = document.createElement('div');\n",
              "        docLink.innerHTML = docLinkHtml;\n",
              "        element.appendChild(docLink);\n",
              "      }\n",
              "    </script>\n",
              "  </div>\n",
              "\n",
              "\n",
              "<div id=\"df-487a2a6d-559e-4e92-8a4c-87013b86a406\">\n",
              "  <button class=\"colab-df-quickchart\" onclick=\"quickchart('df-487a2a6d-559e-4e92-8a4c-87013b86a406')\"\n",
              "            title=\"Suggest charts\"\n",
              "            style=\"display:none;\">\n",
              "\n",
              "<svg xmlns=\"http://www.w3.org/2000/svg\" height=\"24px\"viewBox=\"0 0 24 24\"\n",
              "     width=\"24px\">\n",
              "    <g>\n",
              "        <path d=\"M19 3H5c-1.1 0-2 .9-2 2v14c0 1.1.9 2 2 2h14c1.1 0 2-.9 2-2V5c0-1.1-.9-2-2-2zM9 17H7v-7h2v7zm4 0h-2V7h2v10zm4 0h-2v-4h2v4z\"/>\n",
              "    </g>\n",
              "</svg>\n",
              "  </button>\n",
              "\n",
              "<style>\n",
              "  .colab-df-quickchart {\n",
              "      --bg-color: #E8F0FE;\n",
              "      --fill-color: #1967D2;\n",
              "      --hover-bg-color: #E2EBFA;\n",
              "      --hover-fill-color: #174EA6;\n",
              "      --disabled-fill-color: #AAA;\n",
              "      --disabled-bg-color: #DDD;\n",
              "  }\n",
              "\n",
              "  [theme=dark] .colab-df-quickchart {\n",
              "      --bg-color: #3B4455;\n",
              "      --fill-color: #D2E3FC;\n",
              "      --hover-bg-color: #434B5C;\n",
              "      --hover-fill-color: #FFFFFF;\n",
              "      --disabled-bg-color: #3B4455;\n",
              "      --disabled-fill-color: #666;\n",
              "  }\n",
              "\n",
              "  .colab-df-quickchart {\n",
              "    background-color: var(--bg-color);\n",
              "    border: none;\n",
              "    border-radius: 50%;\n",
              "    cursor: pointer;\n",
              "    display: none;\n",
              "    fill: var(--fill-color);\n",
              "    height: 32px;\n",
              "    padding: 0;\n",
              "    width: 32px;\n",
              "  }\n",
              "\n",
              "  .colab-df-quickchart:hover {\n",
              "    background-color: var(--hover-bg-color);\n",
              "    box-shadow: 0 1px 2px rgba(60, 64, 67, 0.3), 0 1px 3px 1px rgba(60, 64, 67, 0.15);\n",
              "    fill: var(--button-hover-fill-color);\n",
              "  }\n",
              "\n",
              "  .colab-df-quickchart-complete:disabled,\n",
              "  .colab-df-quickchart-complete:disabled:hover {\n",
              "    background-color: var(--disabled-bg-color);\n",
              "    fill: var(--disabled-fill-color);\n",
              "    box-shadow: none;\n",
              "  }\n",
              "\n",
              "  .colab-df-spinner {\n",
              "    border: 2px solid var(--fill-color);\n",
              "    border-color: transparent;\n",
              "    border-bottom-color: var(--fill-color);\n",
              "    animation:\n",
              "      spin 1s steps(1) infinite;\n",
              "  }\n",
              "\n",
              "  @keyframes spin {\n",
              "    0% {\n",
              "      border-color: transparent;\n",
              "      border-bottom-color: var(--fill-color);\n",
              "      border-left-color: var(--fill-color);\n",
              "    }\n",
              "    20% {\n",
              "      border-color: transparent;\n",
              "      border-left-color: var(--fill-color);\n",
              "      border-top-color: var(--fill-color);\n",
              "    }\n",
              "    30% {\n",
              "      border-color: transparent;\n",
              "      border-left-color: var(--fill-color);\n",
              "      border-top-color: var(--fill-color);\n",
              "      border-right-color: var(--fill-color);\n",
              "    }\n",
              "    40% {\n",
              "      border-color: transparent;\n",
              "      border-right-color: var(--fill-color);\n",
              "      border-top-color: var(--fill-color);\n",
              "    }\n",
              "    60% {\n",
              "      border-color: transparent;\n",
              "      border-right-color: var(--fill-color);\n",
              "    }\n",
              "    80% {\n",
              "      border-color: transparent;\n",
              "      border-right-color: var(--fill-color);\n",
              "      border-bottom-color: var(--fill-color);\n",
              "    }\n",
              "    90% {\n",
              "      border-color: transparent;\n",
              "      border-bottom-color: var(--fill-color);\n",
              "    }\n",
              "  }\n",
              "</style>\n",
              "\n",
              "  <script>\n",
              "    async function quickchart(key) {\n",
              "      const quickchartButtonEl =\n",
              "        document.querySelector('#' + key + ' button');\n",
              "      quickchartButtonEl.disabled = true;  // To prevent multiple clicks.\n",
              "      quickchartButtonEl.classList.add('colab-df-spinner');\n",
              "      try {\n",
              "        const charts = await google.colab.kernel.invokeFunction(\n",
              "            'suggestCharts', [key], {});\n",
              "      } catch (error) {\n",
              "        console.error('Error during call to suggestCharts:', error);\n",
              "      }\n",
              "      quickchartButtonEl.classList.remove('colab-df-spinner');\n",
              "      quickchartButtonEl.classList.add('colab-df-quickchart-complete');\n",
              "    }\n",
              "    (() => {\n",
              "      let quickchartButtonEl =\n",
              "        document.querySelector('#df-487a2a6d-559e-4e92-8a4c-87013b86a406 button');\n",
              "      quickchartButtonEl.style.display =\n",
              "        google.colab.kernel.accessAllowed ? 'block' : 'none';\n",
              "    })();\n",
              "  </script>\n",
              "</div>\n",
              "\n",
              "  <div id=\"id_70fd778c-0007-4ffa-b5bb-ee60dfec4cd6\">\n",
              "    <style>\n",
              "      .colab-df-generate {\n",
              "        background-color: #E8F0FE;\n",
              "        border: none;\n",
              "        border-radius: 50%;\n",
              "        cursor: pointer;\n",
              "        display: none;\n",
              "        fill: #1967D2;\n",
              "        height: 32px;\n",
              "        padding: 0 0 0 0;\n",
              "        width: 32px;\n",
              "      }\n",
              "\n",
              "      .colab-df-generate:hover {\n",
              "        background-color: #E2EBFA;\n",
              "        box-shadow: 0px 1px 2px rgba(60, 64, 67, 0.3), 0px 1px 3px 1px rgba(60, 64, 67, 0.15);\n",
              "        fill: #174EA6;\n",
              "      }\n",
              "\n",
              "      [theme=dark] .colab-df-generate {\n",
              "        background-color: #3B4455;\n",
              "        fill: #D2E3FC;\n",
              "      }\n",
              "\n",
              "      [theme=dark] .colab-df-generate:hover {\n",
              "        background-color: #434B5C;\n",
              "        box-shadow: 0px 1px 3px 1px rgba(0, 0, 0, 0.15);\n",
              "        filter: drop-shadow(0px 1px 2px rgba(0, 0, 0, 0.3));\n",
              "        fill: #FFFFFF;\n",
              "      }\n",
              "    </style>\n",
              "    <button class=\"colab-df-generate\" onclick=\"generateWithVariable('data')\"\n",
              "            title=\"Generate code using this dataframe.\"\n",
              "            style=\"display:none;\">\n",
              "\n",
              "  <svg xmlns=\"http://www.w3.org/2000/svg\" height=\"24px\"viewBox=\"0 0 24 24\"\n",
              "       width=\"24px\">\n",
              "    <path d=\"M7,19H8.4L18.45,9,17,7.55,7,17.6ZM5,21V16.75L18.45,3.32a2,2,0,0,1,2.83,0l1.4,1.43a1.91,1.91,0,0,1,.58,1.4,1.91,1.91,0,0,1-.58,1.4L9.25,21ZM18.45,9,17,7.55Zm-12,3A5.31,5.31,0,0,0,4.9,8.1,5.31,5.31,0,0,0,1,6.5,5.31,5.31,0,0,0,4.9,4.9,5.31,5.31,0,0,0,6.5,1,5.31,5.31,0,0,0,8.1,4.9,5.31,5.31,0,0,0,12,6.5,5.46,5.46,0,0,0,6.5,12Z\"/>\n",
              "  </svg>\n",
              "    </button>\n",
              "    <script>\n",
              "      (() => {\n",
              "      const buttonEl =\n",
              "        document.querySelector('#id_70fd778c-0007-4ffa-b5bb-ee60dfec4cd6 button.colab-df-generate');\n",
              "      buttonEl.style.display =\n",
              "        google.colab.kernel.accessAllowed ? 'block' : 'none';\n",
              "\n",
              "      buttonEl.onclick = () => {\n",
              "        google.colab.notebook.generateWithVariable('data');\n",
              "      }\n",
              "      })();\n",
              "    </script>\n",
              "  </div>\n",
              "\n",
              "    </div>\n",
              "  </div>\n"
            ],
            "application/vnd.google.colaboratory.intrinsic+json": {
              "type": "dataframe",
              "variable_name": "data",
              "summary": "{\n  \"name\": \"data\",\n  \"rows\": 7790,\n  \"fields\": [\n    {\n      \"column\": \"Review\",\n      \"properties\": {\n        \"dtype\": \"string\",\n        \"num_unique_values\": 7783,\n        \"samples\": [\n          \"\\\"pareciera que despciona al verla, esperas una piramide completa pero con los anos se a ido deteriorando, aunque seria bueno que se restrinja el acceso ya que es una gran cantidad de gente que la visita se hace necesario asistir con guia para entender como vivian, es confuso ya que al parecer la fundaron entre varias culturas y que al ultimo predominaron los cholultecas, impresiona saber que los hombres dirigidos por hernan cortes asesinaron alrdedor de 5000 indigenas en la mantnza de cholua\\\"\",\n          \"\\\"definitivo el mejor chile en nogada que he probado en mi vida, la atencion es muy buena siempre hay un mesero pendiente. el maridaje con champana tattinger exquisito! la decoracion del lugar es linda y el ambiente muy agusto. si estas en puebla es un...mas\\\"\",\n          \"\\\"los visite el 15 de agosto, el servicio de nuestro mesero ulises fue deplorable teniamos que pedirle que limpiara la mesa, recogiera la loza sucia y nunca nos ofrecia mas de tomar, le comentamos al capitan mauricio, pero solo sonreia diciendo que estaban haciendo su...mas\\\"\"\n        ],\n        \"semantic_type\": \"\",\n        \"description\": \"\"\n      }\n    },\n    {\n      \"column\": \"Class\",\n      \"properties\": {\n        \"dtype\": \"number\",\n        \"std\": 1.3244638535089772,\n        \"min\": 1.0,\n        \"max\": 5.0,\n        \"num_unique_values\": 5,\n        \"samples\": [\n          3.0,\n          5.0,\n          2.0\n        ],\n        \"semantic_type\": \"\",\n        \"description\": \"\"\n      }\n    }\n  ]\n}"
            }
          },
          "metadata": {},
          "execution_count": 18
        }
      ]
    },
    {
      "cell_type": "markdown",
      "source": [
        "## Preparación de Datos para el Modelo\n",
        "Debemos preparar un poco mas los datos antes de introducirlos a los modelos. Para esto los vamos a filtar paso por paso"
      ],
      "metadata": {
        "id": "9tTh5RvCbdHi"
      }
    },
    {
      "cell_type": "markdown",
      "source": [
        "En la primera parte aplicaremos:\n",
        "\n",
        "Normalización de Texto: Convertir el texto a minúsculas, eliminar puntuación, caracteres especiales, y realizae correcciones ortográficas si es necesario.\n",
        "\n",
        "Eliminación de Stopwords: Quitar palabras comunes que no aportan significado relevante al análisis (como \"y\", \"en\", \"un\", etc.).\n",
        "\n",
        "Tokenización: Separar el texto en unidades básicas (tokens), generalmente palabras o frases significativas.\n",
        "\n",
        "Lematización o Stemming: Reducir las palabras a su raíz o lema para disminuir la variabilidad de las palabras manteniendo su significado."
      ],
      "metadata": {
        "id": "SExkGJXCbjU9"
      }
    },
    {
      "cell_type": "code",
      "source": [
        "# Configurar NLTK Stopwords\n",
        "stop_words = set(stopwords.words('spanish'))\n",
        "stemmer = SnowballStemmer('spanish')\n",
        "\n",
        "def limpiar_texto(texto):\n",
        "    # Convertir el texto a minúsculas\n",
        "    texto = texto.lower()\n",
        "    # Tokenizar el texto\n",
        "    palabras = word_tokenize(texto, language='spanish')\n",
        "    # Eliminar stopwords y palabras no alfabéticas, y aplicar stemming\n",
        "    palabras_limpias = [stemmer.stem(palabra) for palabra in palabras if palabra.isalpha() and palabra not in stop_words]\n",
        "    # Unir de nuevo las palabras en una cadena\n",
        "    texto_limpiado = ' '.join(palabras_limpias)\n",
        "    return texto_limpiado\n",
        "\n",
        "# Aplicar la función de limpieza a la columna de comentarios\n",
        "data['Review_Limpiado'] = data['Review'].apply(limpiar_texto)"
      ],
      "metadata": {
        "id": "9I_DE3MjcT6f"
      },
      "execution_count": null,
      "outputs": []
    },
    {
      "cell_type": "code",
      "source": [
        "data.head(3)"
      ],
      "metadata": {
        "colab": {
          "base_uri": "https://localhost:8080/",
          "height": 491
        },
        "id": "iTNSVY_vc32v",
        "outputId": "5d04a265-ecf3-467f-8fc0-170dd24067a4"
      },
      "execution_count": null,
      "outputs": [
        {
          "output_type": "execute_result",
          "data": {
            "text/plain": [
              "                                                                                                                                                                                                                                                                                                                                                                                                                                                                                                                                                                                                                                   Review  \\\n",
              "1                                                                                                                                                                                                      \"nos alojamos en una casa alquilada en la ciudad amurallada. parecia tan segura como cualquier otra gran ciudad con un monton de buenos restaurantes, tiendas y vida nocturna. gran lugar para un grupo con intereses variados, no estoy seguro de que le traiga a los ninos aqui solo porque no hay mucho que hacer para ellos. asegurate de aventurarse fuera de la ciudad, pero algunos tambien es un gran lugar para alojarse\"   \n",
              "2                                                                                                                                                                                                                                                                                                                                                               \"la comida esta bien, pero nada especial. yo tenia mejor comida mexcan en los estados unidos. las margaritas eran geniales. el mahi mahi pescado recocido y seco. la carne fajitas aceptable y el coco camarones sabroso. el tortilla chips aperitivo fue decepcionante.\"   \n",
              "3  \"en mi opinion, no es una como muchos usuarios reclaman. es un gran paladar que parece ser una parada con muchos grupos de excursion. el menu es mas interesante que los otros restaurantes comimos en. la parte mas interesante de la experiencia es que el...edificio esta en una seccion de la habana centro. las plantas inferiores estan muy deteriorados, y tienen apartamentos donde viven muchos trabajadores de restaurante. los pisos superiores, donde el restaurante es, han sido restauradas a gloria pasada. las reservas son imprescindibles. plan de 40 a 50 cuc por persona para una comida con cocteles y vinos.mas\"   \n",
              "\n",
              "   Class  \\\n",
              "1    4.0   \n",
              "2    3.0   \n",
              "3    3.0   \n",
              "\n",
              "                                                                                                                                                                                                                                                                                         Review_Limpiado  \n",
              "1                                                                                                aloj cas alquil ciud amurall pareci tan segur cualqui gran ciud monton buen restaur tiend vid nocturn gran lug grup interes vari segur traig nin aqui sol hac asegurat aventur ciud tambi gran lug aloj  \n",
              "2                                                                                                                                                 com bien especial teni mejor com mexc unid margarit genial mahi mahi pesc recoc sec carn fajit acept coc camaron sabros tortill chips aperit decepcion  \n",
              "3  opinion usuari reclam gran palad parec ser par grup excursion menu mas interes restaur com part mas interes experient edifici seccion haban centr plant inferior estan deterior apartament viv trabaj restaur pis superior restaur sid restaur glori pas reserv imprescind plan cuc person com coctel  "
            ],
            "text/html": [
              "\n",
              "  <div id=\"df-4bd565df-ff50-4ed1-a809-10eafebe0f3d\" class=\"colab-df-container\">\n",
              "    <div>\n",
              "<style scoped>\n",
              "    .dataframe tbody tr th:only-of-type {\n",
              "        vertical-align: middle;\n",
              "    }\n",
              "\n",
              "    .dataframe tbody tr th {\n",
              "        vertical-align: top;\n",
              "    }\n",
              "\n",
              "    .dataframe thead th {\n",
              "        text-align: right;\n",
              "    }\n",
              "</style>\n",
              "<table border=\"1\" class=\"dataframe\">\n",
              "  <thead>\n",
              "    <tr style=\"text-align: right;\">\n",
              "      <th></th>\n",
              "      <th>Review</th>\n",
              "      <th>Class</th>\n",
              "      <th>Review_Limpiado</th>\n",
              "    </tr>\n",
              "  </thead>\n",
              "  <tbody>\n",
              "    <tr>\n",
              "      <th>1</th>\n",
              "      <td>\"nos alojamos en una casa alquilada en la ciudad amurallada. parecia tan segura como cualquier otra gran ciudad con un monton de buenos restaurantes, tiendas y vida nocturna. gran lugar para un grupo con intereses variados, no estoy seguro de que le traiga a los ninos aqui solo porque no hay mucho que hacer para ellos. asegurate de aventurarse fuera de la ciudad, pero algunos tambien es un gran lugar para alojarse\"</td>\n",
              "      <td>4.0</td>\n",
              "      <td>aloj cas alquil ciud amurall pareci tan segur cualqui gran ciud monton buen restaur tiend vid nocturn gran lug grup interes vari segur traig nin aqui sol hac asegurat aventur ciud tambi gran lug aloj</td>\n",
              "    </tr>\n",
              "    <tr>\n",
              "      <th>2</th>\n",
              "      <td>\"la comida esta bien, pero nada especial. yo tenia mejor comida mexcan en los estados unidos. las margaritas eran geniales. el mahi mahi pescado recocido y seco. la carne fajitas aceptable y el coco camarones sabroso. el tortilla chips aperitivo fue decepcionante.\"</td>\n",
              "      <td>3.0</td>\n",
              "      <td>com bien especial teni mejor com mexc unid margarit genial mahi mahi pesc recoc sec carn fajit acept coc camaron sabros tortill chips aperit decepcion</td>\n",
              "    </tr>\n",
              "    <tr>\n",
              "      <th>3</th>\n",
              "      <td>\"en mi opinion, no es una como muchos usuarios reclaman. es un gran paladar que parece ser una parada con muchos grupos de excursion. el menu es mas interesante que los otros restaurantes comimos en. la parte mas interesante de la experiencia es que el...edificio esta en una seccion de la habana centro. las plantas inferiores estan muy deteriorados, y tienen apartamentos donde viven muchos trabajadores de restaurante. los pisos superiores, donde el restaurante es, han sido restauradas a gloria pasada. las reservas son imprescindibles. plan de 40 a 50 cuc por persona para una comida con cocteles y vinos.mas\"</td>\n",
              "      <td>3.0</td>\n",
              "      <td>opinion usuari reclam gran palad parec ser par grup excursion menu mas interes restaur com part mas interes experient edifici seccion haban centr plant inferior estan deterior apartament viv trabaj restaur pis superior restaur sid restaur glori pas reserv imprescind plan cuc person com coctel</td>\n",
              "    </tr>\n",
              "  </tbody>\n",
              "</table>\n",
              "</div>\n",
              "    <div class=\"colab-df-buttons\">\n",
              "\n",
              "  <div class=\"colab-df-container\">\n",
              "    <button class=\"colab-df-convert\" onclick=\"convertToInteractive('df-4bd565df-ff50-4ed1-a809-10eafebe0f3d')\"\n",
              "            title=\"Convert this dataframe to an interactive table.\"\n",
              "            style=\"display:none;\">\n",
              "\n",
              "  <svg xmlns=\"http://www.w3.org/2000/svg\" height=\"24px\" viewBox=\"0 -960 960 960\">\n",
              "    <path d=\"M120-120v-720h720v720H120Zm60-500h600v-160H180v160Zm220 220h160v-160H400v160Zm0 220h160v-160H400v160ZM180-400h160v-160H180v160Zm440 0h160v-160H620v160ZM180-180h160v-160H180v160Zm440 0h160v-160H620v160Z\"/>\n",
              "  </svg>\n",
              "    </button>\n",
              "\n",
              "  <style>\n",
              "    .colab-df-container {\n",
              "      display:flex;\n",
              "      gap: 12px;\n",
              "    }\n",
              "\n",
              "    .colab-df-convert {\n",
              "      background-color: #E8F0FE;\n",
              "      border: none;\n",
              "      border-radius: 50%;\n",
              "      cursor: pointer;\n",
              "      display: none;\n",
              "      fill: #1967D2;\n",
              "      height: 32px;\n",
              "      padding: 0 0 0 0;\n",
              "      width: 32px;\n",
              "    }\n",
              "\n",
              "    .colab-df-convert:hover {\n",
              "      background-color: #E2EBFA;\n",
              "      box-shadow: 0px 1px 2px rgba(60, 64, 67, 0.3), 0px 1px 3px 1px rgba(60, 64, 67, 0.15);\n",
              "      fill: #174EA6;\n",
              "    }\n",
              "\n",
              "    .colab-df-buttons div {\n",
              "      margin-bottom: 4px;\n",
              "    }\n",
              "\n",
              "    [theme=dark] .colab-df-convert {\n",
              "      background-color: #3B4455;\n",
              "      fill: #D2E3FC;\n",
              "    }\n",
              "\n",
              "    [theme=dark] .colab-df-convert:hover {\n",
              "      background-color: #434B5C;\n",
              "      box-shadow: 0px 1px 3px 1px rgba(0, 0, 0, 0.15);\n",
              "      filter: drop-shadow(0px 1px 2px rgba(0, 0, 0, 0.3));\n",
              "      fill: #FFFFFF;\n",
              "    }\n",
              "  </style>\n",
              "\n",
              "    <script>\n",
              "      const buttonEl =\n",
              "        document.querySelector('#df-4bd565df-ff50-4ed1-a809-10eafebe0f3d button.colab-df-convert');\n",
              "      buttonEl.style.display =\n",
              "        google.colab.kernel.accessAllowed ? 'block' : 'none';\n",
              "\n",
              "      async function convertToInteractive(key) {\n",
              "        const element = document.querySelector('#df-4bd565df-ff50-4ed1-a809-10eafebe0f3d');\n",
              "        const dataTable =\n",
              "          await google.colab.kernel.invokeFunction('convertToInteractive',\n",
              "                                                    [key], {});\n",
              "        if (!dataTable) return;\n",
              "\n",
              "        const docLinkHtml = 'Like what you see? Visit the ' +\n",
              "          '<a target=\"_blank\" href=https://colab.research.google.com/notebooks/data_table.ipynb>data table notebook</a>'\n",
              "          + ' to learn more about interactive tables.';\n",
              "        element.innerHTML = '';\n",
              "        dataTable['output_type'] = 'display_data';\n",
              "        await google.colab.output.renderOutput(dataTable, element);\n",
              "        const docLink = document.createElement('div');\n",
              "        docLink.innerHTML = docLinkHtml;\n",
              "        element.appendChild(docLink);\n",
              "      }\n",
              "    </script>\n",
              "  </div>\n",
              "\n",
              "\n",
              "<div id=\"df-06720c96-bfd4-4eed-8691-3f9591b23248\">\n",
              "  <button class=\"colab-df-quickchart\" onclick=\"quickchart('df-06720c96-bfd4-4eed-8691-3f9591b23248')\"\n",
              "            title=\"Suggest charts\"\n",
              "            style=\"display:none;\">\n",
              "\n",
              "<svg xmlns=\"http://www.w3.org/2000/svg\" height=\"24px\"viewBox=\"0 0 24 24\"\n",
              "     width=\"24px\">\n",
              "    <g>\n",
              "        <path d=\"M19 3H5c-1.1 0-2 .9-2 2v14c0 1.1.9 2 2 2h14c1.1 0 2-.9 2-2V5c0-1.1-.9-2-2-2zM9 17H7v-7h2v7zm4 0h-2V7h2v10zm4 0h-2v-4h2v4z\"/>\n",
              "    </g>\n",
              "</svg>\n",
              "  </button>\n",
              "\n",
              "<style>\n",
              "  .colab-df-quickchart {\n",
              "      --bg-color: #E8F0FE;\n",
              "      --fill-color: #1967D2;\n",
              "      --hover-bg-color: #E2EBFA;\n",
              "      --hover-fill-color: #174EA6;\n",
              "      --disabled-fill-color: #AAA;\n",
              "      --disabled-bg-color: #DDD;\n",
              "  }\n",
              "\n",
              "  [theme=dark] .colab-df-quickchart {\n",
              "      --bg-color: #3B4455;\n",
              "      --fill-color: #D2E3FC;\n",
              "      --hover-bg-color: #434B5C;\n",
              "      --hover-fill-color: #FFFFFF;\n",
              "      --disabled-bg-color: #3B4455;\n",
              "      --disabled-fill-color: #666;\n",
              "  }\n",
              "\n",
              "  .colab-df-quickchart {\n",
              "    background-color: var(--bg-color);\n",
              "    border: none;\n",
              "    border-radius: 50%;\n",
              "    cursor: pointer;\n",
              "    display: none;\n",
              "    fill: var(--fill-color);\n",
              "    height: 32px;\n",
              "    padding: 0;\n",
              "    width: 32px;\n",
              "  }\n",
              "\n",
              "  .colab-df-quickchart:hover {\n",
              "    background-color: var(--hover-bg-color);\n",
              "    box-shadow: 0 1px 2px rgba(60, 64, 67, 0.3), 0 1px 3px 1px rgba(60, 64, 67, 0.15);\n",
              "    fill: var(--button-hover-fill-color);\n",
              "  }\n",
              "\n",
              "  .colab-df-quickchart-complete:disabled,\n",
              "  .colab-df-quickchart-complete:disabled:hover {\n",
              "    background-color: var(--disabled-bg-color);\n",
              "    fill: var(--disabled-fill-color);\n",
              "    box-shadow: none;\n",
              "  }\n",
              "\n",
              "  .colab-df-spinner {\n",
              "    border: 2px solid var(--fill-color);\n",
              "    border-color: transparent;\n",
              "    border-bottom-color: var(--fill-color);\n",
              "    animation:\n",
              "      spin 1s steps(1) infinite;\n",
              "  }\n",
              "\n",
              "  @keyframes spin {\n",
              "    0% {\n",
              "      border-color: transparent;\n",
              "      border-bottom-color: var(--fill-color);\n",
              "      border-left-color: var(--fill-color);\n",
              "    }\n",
              "    20% {\n",
              "      border-color: transparent;\n",
              "      border-left-color: var(--fill-color);\n",
              "      border-top-color: var(--fill-color);\n",
              "    }\n",
              "    30% {\n",
              "      border-color: transparent;\n",
              "      border-left-color: var(--fill-color);\n",
              "      border-top-color: var(--fill-color);\n",
              "      border-right-color: var(--fill-color);\n",
              "    }\n",
              "    40% {\n",
              "      border-color: transparent;\n",
              "      border-right-color: var(--fill-color);\n",
              "      border-top-color: var(--fill-color);\n",
              "    }\n",
              "    60% {\n",
              "      border-color: transparent;\n",
              "      border-right-color: var(--fill-color);\n",
              "    }\n",
              "    80% {\n",
              "      border-color: transparent;\n",
              "      border-right-color: var(--fill-color);\n",
              "      border-bottom-color: var(--fill-color);\n",
              "    }\n",
              "    90% {\n",
              "      border-color: transparent;\n",
              "      border-bottom-color: var(--fill-color);\n",
              "    }\n",
              "  }\n",
              "</style>\n",
              "\n",
              "  <script>\n",
              "    async function quickchart(key) {\n",
              "      const quickchartButtonEl =\n",
              "        document.querySelector('#' + key + ' button');\n",
              "      quickchartButtonEl.disabled = true;  // To prevent multiple clicks.\n",
              "      quickchartButtonEl.classList.add('colab-df-spinner');\n",
              "      try {\n",
              "        const charts = await google.colab.kernel.invokeFunction(\n",
              "            'suggestCharts', [key], {});\n",
              "      } catch (error) {\n",
              "        console.error('Error during call to suggestCharts:', error);\n",
              "      }\n",
              "      quickchartButtonEl.classList.remove('colab-df-spinner');\n",
              "      quickchartButtonEl.classList.add('colab-df-quickchart-complete');\n",
              "    }\n",
              "    (() => {\n",
              "      let quickchartButtonEl =\n",
              "        document.querySelector('#df-06720c96-bfd4-4eed-8691-3f9591b23248 button');\n",
              "      quickchartButtonEl.style.display =\n",
              "        google.colab.kernel.accessAllowed ? 'block' : 'none';\n",
              "    })();\n",
              "  </script>\n",
              "</div>\n",
              "\n",
              "    </div>\n",
              "  </div>\n"
            ],
            "application/vnd.google.colaboratory.intrinsic+json": {
              "type": "dataframe",
              "variable_name": "data",
              "summary": "{\n  \"name\": \"data\",\n  \"rows\": 7790,\n  \"fields\": [\n    {\n      \"column\": \"Review\",\n      \"properties\": {\n        \"dtype\": \"string\",\n        \"num_unique_values\": 7783,\n        \"samples\": [\n          \"\\\"pareciera que despciona al verla, esperas una piramide completa pero con los anos se a ido deteriorando, aunque seria bueno que se restrinja el acceso ya que es una gran cantidad de gente que la visita se hace necesario asistir con guia para entender como vivian, es confuso ya que al parecer la fundaron entre varias culturas y que al ultimo predominaron los cholultecas, impresiona saber que los hombres dirigidos por hernan cortes asesinaron alrdedor de 5000 indigenas en la mantnza de cholua\\\"\",\n          \"\\\"definitivo el mejor chile en nogada que he probado en mi vida, la atencion es muy buena siempre hay un mesero pendiente. el maridaje con champana tattinger exquisito! la decoracion del lugar es linda y el ambiente muy agusto. si estas en puebla es un...mas\\\"\",\n          \"\\\"los visite el 15 de agosto, el servicio de nuestro mesero ulises fue deplorable teniamos que pedirle que limpiara la mesa, recogiera la loza sucia y nunca nos ofrecia mas de tomar, le comentamos al capitan mauricio, pero solo sonreia diciendo que estaban haciendo su...mas\\\"\"\n        ],\n        \"semantic_type\": \"\",\n        \"description\": \"\"\n      }\n    },\n    {\n      \"column\": \"Class\",\n      \"properties\": {\n        \"dtype\": \"number\",\n        \"std\": 1.3244638535089772,\n        \"min\": 1.0,\n        \"max\": 5.0,\n        \"num_unique_values\": 5,\n        \"samples\": [\n          3.0,\n          5.0,\n          2.0\n        ],\n        \"semantic_type\": \"\",\n        \"description\": \"\"\n      }\n    },\n    {\n      \"column\": \"Review_Limpiado\",\n      \"properties\": {\n        \"dtype\": \"string\",\n        \"num_unique_values\": 7770,\n        \"samples\": [\n          \"buen manten instal estil franc conserv respir mexic principi sigl pas eleg gran confort recom si disfrutam pued mejor detall ten alta demand ocacion servici hac lent pued atend huesped quiesier\",\n          \"bien instal preci visit delfin mejor animal ven bien cuid mejor pag fot quier excelent ide\",\n          \"ve bonit tod ciud bogot sol despu iglesi catol si creyent plus\"\n        ],\n        \"semantic_type\": \"\",\n        \"description\": \"\"\n      }\n    }\n  ]\n}"
            }
          },
          "metadata": {},
          "execution_count": 20
        }
      ]
    },
    {
      "cell_type": "markdown",
      "source": [
        "Ahora bien. Los modelos de machine learning trabajan con datos numericos, no texto crudo. En este sentido es necesario convertir las oraciones en un formato numerico. Este proceso es conocido como vectorización.\n",
        "\n",
        "Lo haremos mediante la tecnica TF-IDF. Es una medida numérica que expresa cuán relevante es una palabra para un documento en una colección. Este método  pondera las palabras, dando menos importancia a las que aparecen frecuentemente en el conjunto de datos y más a las que son únicas en los documentos individuales."
      ],
      "metadata": {
        "id": "Yuav1ZmOdg6N"
      }
    },
    {
      "cell_type": "code",
      "source": [
        "# Crear una instancia de TfidfVectorizer\n",
        "tfidf_vectorizer = TfidfVectorizer()\n",
        "\n",
        "# Ajustar el modelo al texto limpiado y transformarlo en una matriz de características\n",
        "X_tfidf = tfidf_vectorizer.fit_transform(data['Review_Limpiado'])\n",
        "\n"
      ],
      "metadata": {
        "id": "dU93zpBYfM_x"
      },
      "execution_count": null,
      "outputs": []
    },
    {
      "cell_type": "markdown",
      "source": [
        "X_tfidf es una matriz que contiene los valores TF-IDF de cada palabra."
      ],
      "metadata": {
        "id": "2yKza5e3frH4"
      }
    },
    {
      "cell_type": "markdown",
      "source": [
        "## Algoritmos\n",
        "\n",
        "Usaremos estrategias de clasificación. Se usan cuando el objetivo es predecir la categoría o clase a la que pertenece una observación, basándose en sus características. En este caso queremos predecir a que categoria pertenecen los comentarios (1-5).\n",
        "\n",
        "La clasificación es ideal para estos casos porque se centra en asignar categorías a partir de los datos de entrada, utilizando algoritmos que pueden aprender de los datos etiquetados para hacer predicciones sobre datos no etiquetados."
      ],
      "metadata": {
        "id": "vhommeCdgJ51"
      }
    },
    {
      "cell_type": "markdown",
      "source": [
        "El primer paso será dividir el conjunto de datos en un conjunto de entrenamiento y otro de prueba. Esto es esencial para evaluar la capacidad del modelo para generalizar a nuevos datos que no ha visto durante el entrenamiento."
      ],
      "metadata": {
        "id": "9f-570Fjfbx0"
      }
    },
    {
      "cell_type": "code",
      "source": [
        "X_train, X_test, y_train, y_test = train_test_split(X_tfidf, data['Class'], test_size=0.2, random_state=42)"
      ],
      "metadata": {
        "id": "RfETF4HAgCLy"
      },
      "execution_count": null,
      "outputs": []
    },
    {
      "cell_type": "markdown",
      "source": [
        "\n",
        "\n",
        "```\n",
        "# Esto tiene formato de código\n",
        "```\n",
        "\n",
        "### Arboles de Desición\n",
        "\n",
        "Dado el enunciado y los objetivos del Ministerio de Comercio, Industria y Turismo de Colombia y otras entidades interesadas en analizar las características de sitios turísticos, un modelo basado en árboles de decisión podría ser una excelente opción por varias razones:\n",
        "\n",
        "1. Interpretabilidad:\n",
        "Los árboles de decisión son altamente interpretables.\n",
        "\n",
        "2. Manejo de Características Categóricas y Numéricas:\n",
        "Los árboles de decisión manejan bien tanto características numéricas como categóricas sin necesidad de preprocesamiento complejo."
      ],
      "metadata": {
        "id": "tScsDYt_iEmX"
      }
    },
    {
      "cell_type": "code",
      "source": [
        "# Inicializar el modelo de árbol de decisión\n",
        "dt_model = DecisionTreeClassifier(random_state=42)\n",
        "\n",
        "# Entrenar el modelo\n",
        "dt_model.fit(X_train, y_train)"
      ],
      "metadata": {
        "colab": {
          "base_uri": "https://localhost:8080/",
          "height": 75
        },
        "id": "Cjzdke8ciYkb",
        "outputId": "9968e3b9-6205-4309-f705-b47d76d39813"
      },
      "execution_count": null,
      "outputs": [
        {
          "output_type": "execute_result",
          "data": {
            "text/plain": [
              "DecisionTreeClassifier(random_state=42)"
            ],
            "text/html": [
              "<style>#sk-container-id-1 {color: black;background-color: white;}#sk-container-id-1 pre{padding: 0;}#sk-container-id-1 div.sk-toggleable {background-color: white;}#sk-container-id-1 label.sk-toggleable__label {cursor: pointer;display: block;width: 100%;margin-bottom: 0;padding: 0.3em;box-sizing: border-box;text-align: center;}#sk-container-id-1 label.sk-toggleable__label-arrow:before {content: \"▸\";float: left;margin-right: 0.25em;color: #696969;}#sk-container-id-1 label.sk-toggleable__label-arrow:hover:before {color: black;}#sk-container-id-1 div.sk-estimator:hover label.sk-toggleable__label-arrow:before {color: black;}#sk-container-id-1 div.sk-toggleable__content {max-height: 0;max-width: 0;overflow: hidden;text-align: left;background-color: #f0f8ff;}#sk-container-id-1 div.sk-toggleable__content pre {margin: 0.2em;color: black;border-radius: 0.25em;background-color: #f0f8ff;}#sk-container-id-1 input.sk-toggleable__control:checked~div.sk-toggleable__content {max-height: 200px;max-width: 100%;overflow: auto;}#sk-container-id-1 input.sk-toggleable__control:checked~label.sk-toggleable__label-arrow:before {content: \"▾\";}#sk-container-id-1 div.sk-estimator input.sk-toggleable__control:checked~label.sk-toggleable__label {background-color: #d4ebff;}#sk-container-id-1 div.sk-label input.sk-toggleable__control:checked~label.sk-toggleable__label {background-color: #d4ebff;}#sk-container-id-1 input.sk-hidden--visually {border: 0;clip: rect(1px 1px 1px 1px);clip: rect(1px, 1px, 1px, 1px);height: 1px;margin: -1px;overflow: hidden;padding: 0;position: absolute;width: 1px;}#sk-container-id-1 div.sk-estimator {font-family: monospace;background-color: #f0f8ff;border: 1px dotted black;border-radius: 0.25em;box-sizing: border-box;margin-bottom: 0.5em;}#sk-container-id-1 div.sk-estimator:hover {background-color: #d4ebff;}#sk-container-id-1 div.sk-parallel-item::after {content: \"\";width: 100%;border-bottom: 1px solid gray;flex-grow: 1;}#sk-container-id-1 div.sk-label:hover label.sk-toggleable__label {background-color: #d4ebff;}#sk-container-id-1 div.sk-serial::before {content: \"\";position: absolute;border-left: 1px solid gray;box-sizing: border-box;top: 0;bottom: 0;left: 50%;z-index: 0;}#sk-container-id-1 div.sk-serial {display: flex;flex-direction: column;align-items: center;background-color: white;padding-right: 0.2em;padding-left: 0.2em;position: relative;}#sk-container-id-1 div.sk-item {position: relative;z-index: 1;}#sk-container-id-1 div.sk-parallel {display: flex;align-items: stretch;justify-content: center;background-color: white;position: relative;}#sk-container-id-1 div.sk-item::before, #sk-container-id-1 div.sk-parallel-item::before {content: \"\";position: absolute;border-left: 1px solid gray;box-sizing: border-box;top: 0;bottom: 0;left: 50%;z-index: -1;}#sk-container-id-1 div.sk-parallel-item {display: flex;flex-direction: column;z-index: 1;position: relative;background-color: white;}#sk-container-id-1 div.sk-parallel-item:first-child::after {align-self: flex-end;width: 50%;}#sk-container-id-1 div.sk-parallel-item:last-child::after {align-self: flex-start;width: 50%;}#sk-container-id-1 div.sk-parallel-item:only-child::after {width: 0;}#sk-container-id-1 div.sk-dashed-wrapped {border: 1px dashed gray;margin: 0 0.4em 0.5em 0.4em;box-sizing: border-box;padding-bottom: 0.4em;background-color: white;}#sk-container-id-1 div.sk-label label {font-family: monospace;font-weight: bold;display: inline-block;line-height: 1.2em;}#sk-container-id-1 div.sk-label-container {text-align: center;}#sk-container-id-1 div.sk-container {/* jupyter's `normalize.less` sets `[hidden] { display: none; }` but bootstrap.min.css set `[hidden] { display: none !important; }` so we also need the `!important` here to be able to override the default hidden behavior on the sphinx rendered scikit-learn.org. See: https://github.com/scikit-learn/scikit-learn/issues/21755 */display: inline-block !important;position: relative;}#sk-container-id-1 div.sk-text-repr-fallback {display: none;}</style><div id=\"sk-container-id-1\" class=\"sk-top-container\"><div class=\"sk-text-repr-fallback\"><pre>DecisionTreeClassifier(random_state=42)</pre><b>In a Jupyter environment, please rerun this cell to show the HTML representation or trust the notebook. <br />On GitHub, the HTML representation is unable to render, please try loading this page with nbviewer.org.</b></div><div class=\"sk-container\" hidden><div class=\"sk-item\"><div class=\"sk-estimator sk-toggleable\"><input class=\"sk-toggleable__control sk-hidden--visually\" id=\"sk-estimator-id-1\" type=\"checkbox\" checked><label for=\"sk-estimator-id-1\" class=\"sk-toggleable__label sk-toggleable__label-arrow\">DecisionTreeClassifier</label><div class=\"sk-toggleable__content\"><pre>DecisionTreeClassifier(random_state=42)</pre></div></div></div></div></div>"
            ]
          },
          "metadata": {},
          "execution_count": 23
        }
      ]
    },
    {
      "cell_type": "markdown",
      "source": [
        "Ahora vamos a Evaluar el Modelo con:\n",
        "\n",
        "Precisión. Proporción de predicciones correctas entre el total de casos.\n",
        "\n",
        "Recall. Capacidad del modelo para encontrar todos los casos relevantes dentro de un conjunto de datos.\n",
        "\n",
        "F1-Score: Media armónica de precisión y recall.\n",
        "\n",
        "Matriz de Confusión: Muestra la cantidad de predicciones correctas e incorrectas, desglosadas por clase."
      ],
      "metadata": {
        "id": "WB312J8bik_A"
      }
    },
    {
      "cell_type": "code",
      "source": [
        "y_pred = dt_model.predict(X_test)\n",
        "\n",
        "# Calcula y muestra las métricas de rendimiento\n",
        "print(\"Accuracy:\", accuracy_score(y_test, y_pred))\n",
        "print(\"\\nMatriz de Confusión:\\n\", confusion_matrix(y_test, y_pred))\n",
        "print(\"\\nReporte de Clasificación:\\n\", classification_report(y_test, y_pred))"
      ],
      "metadata": {
        "colab": {
          "base_uri": "https://localhost:8080/"
        },
        "id": "d324TjH0izyw",
        "outputId": "461eac80-f73d-4405-b0ea-0fe12996bf93"
      },
      "execution_count": null,
      "outputs": [
        {
          "output_type": "stream",
          "name": "stdout",
          "text": [
            "Accuracy: 0.3523748395378691\n",
            "\n",
            "Matriz de Confusión:\n",
            " [[ 45  48  28  18  21]\n",
            " [ 59  58  61  38  31]\n",
            " [ 19  42  77  84  66]\n",
            " [ 15  35  67 126 150]\n",
            " [  9  34  64 120 243]]\n",
            "\n",
            "Reporte de Clasificación:\n",
            "               precision    recall  f1-score   support\n",
            "\n",
            "         1.0       0.31      0.28      0.29       160\n",
            "         2.0       0.27      0.23      0.25       247\n",
            "         3.0       0.26      0.27      0.26       288\n",
            "         4.0       0.33      0.32      0.32       393\n",
            "         5.0       0.48      0.52      0.50       470\n",
            "\n",
            "    accuracy                           0.35      1558\n",
            "   macro avg       0.33      0.32      0.33      1558\n",
            "weighted avg       0.35      0.35      0.35      1558\n",
            "\n"
          ]
        }
      ]
    },
    {
      "cell_type": "markdown",
      "source": [
        "Los resultados indican que el modelo tiene una precisión global (accuracy) del 35.2%, lo cual es bastante bajo."
      ],
      "metadata": {
        "id": "qkok_2N6kN6v"
      }
    },
    {
      "cell_type": "markdown",
      "source": [
        "Análisis de la Matriz de Confusión\n",
        "\n",
        "Clase 1 : De las reseñas reales de esta clase, 45 fueron clasificadas correctamente. Sin embargo, hay una  una notable confusión con la clase 2 (48 predicciones incorrectas hacia esta clase).\n",
        "\n",
        "Clase 2: Esta clase tiene el mayor número de predicciones correctas en 58, pero aún así, se observa una gran cantidad de confusión, especialmente con las clases 3 y 1, con 61 y 59 reseñas incorrectamente clasificadas, respectivamente.\n",
        "\n",
        "Clase 3: La clase 3 muestra una mejoría en la precisión con 77 clasificaciones correctas. Sin embargo, esta es también la clase con la mayor dispersión de errores, destacando confusión significativa con las clases 4 y 5 (84 y 66, respectivamente).\n",
        "\n",
        "Clase 4: Aunque 126 reseñas de esta clase fueron correctamente clasificadas, sigue siendo notable la cantidad de reseñas que fueron clasificadas erróneamente como pertenecientes a la clase 5 (150).\n",
        "\n",
        "Clase 5 (Probablemente 5 estrellas): Esta clase muestra el mayor número de predicciones correctas (243), lo cual es positivo. No obstante, la confusión con la clase 4 es alta, con 120 reseñas de clase 5 predichas incorrectamente como clase 4."
      ],
      "metadata": {
        "id": "nurr26M9kSQr"
      }
    },
    {
      "cell_type": "markdown",
      "source": [
        "\n",
        "A pesar de que la precisión global (accuracy) del modelo parece ser relativamente baja, es importante considerar que su desempeño, dentro del contexto específico del análisis de reseñas turísticas, es bastante adecuado. La razón principal detrás de la baja precisión es la confusión observable entre ciertas clases adyacentes: específicamente, entre las clases 1 y 2, la 4 y la 5, y en menor medida, la clase 3 con las clases 2 y 4. Sin embargo, esta confusión entre categorías cercanas no necesariamente indica un mal desempeño. En la práctica, especialmente en el ámbito turístico, la distinción entre reseñas de puntuaciones consecutivas (como 1 y 2, o 4 y 5) puede ser sutil y, en muchos casos, interpretada de manera similar por los usuarios y proveedores de servicios turísticos."
      ],
      "metadata": {
        "id": "LuBT0V7apuL7"
      }
    },
    {
      "cell_type": "markdown",
      "source": [
        "\n",
        "```\n",
        "# Esto tiene formato de código\n",
        "```\n",
        "\n",
        "### Random Forest\n",
        "\n",
        "Dado el enunciado y los objetivos del Ministerio de Comercio, Industria y Turismo de Colombia y otras entidades interesadas en analizar las características de sitios turísticos, un modelo basado en Random Forest podría ser una excelente opción por varias razones:\n",
        "\n",
        "1. Interpretabilidad:\n",
        "Los Random Forest son altamente interpretables.\n",
        "\n",
        "2. Manejo de Características Categóricas y Numéricas:\n",
        "Los Random Forest manejan bien tanto características numéricas como categóricas sin necesidad de preprocesamiento complejo."
      ],
      "metadata": {
        "id": "F_DPz8r2x7OQ"
      }
    },
    {
      "cell_type": "code",
      "source": [
        "# Importar las bibliotecas necesarias\n",
        "from sklearn.ensemble import RandomForestClassifier\n",
        "from sklearn.model_selection import train_test_split\n",
        "from sklearn.metrics import accuracy_score"
      ],
      "metadata": {
        "id": "dWFurPnS04Ax"
      },
      "execution_count": null,
      "outputs": []
    },
    {
      "cell_type": "code",
      "source": [
        "# Dividir los datos en conjunto de entrenamiento y prueba\n",
        "X_train, X_test, y_train, y_test = train_test_split(X_tfidf, data['Class'], test_size=0.2, random_state=42)"
      ],
      "metadata": {
        "id": "EYczA9gd1Je1"
      },
      "execution_count": null,
      "outputs": []
    },
    {
      "cell_type": "code",
      "source": [
        "# Crear el clasificador de Random Forest\n",
        "rf_classifier = RandomForestClassifier(n_estimators=100, random_state=42)"
      ],
      "metadata": {
        "id": "OKEaMfYO1QaZ"
      },
      "execution_count": null,
      "outputs": []
    },
    {
      "cell_type": "code",
      "source": [
        "# Entrenar el clasificador\n",
        "rf_classifier.fit(X_train, y_train)"
      ],
      "metadata": {
        "colab": {
          "base_uri": "https://localhost:8080/",
          "height": 75
        },
        "id": "k-7Vx5Zj1Ttz",
        "outputId": "8679259e-78da-493a-a62a-b8b9c3aaa7ad"
      },
      "execution_count": null,
      "outputs": [
        {
          "output_type": "execute_result",
          "data": {
            "text/plain": [
              "RandomForestClassifier(random_state=42)"
            ],
            "text/html": [
              "<style>#sk-container-id-4 {color: black;background-color: white;}#sk-container-id-4 pre{padding: 0;}#sk-container-id-4 div.sk-toggleable {background-color: white;}#sk-container-id-4 label.sk-toggleable__label {cursor: pointer;display: block;width: 100%;margin-bottom: 0;padding: 0.3em;box-sizing: border-box;text-align: center;}#sk-container-id-4 label.sk-toggleable__label-arrow:before {content: \"▸\";float: left;margin-right: 0.25em;color: #696969;}#sk-container-id-4 label.sk-toggleable__label-arrow:hover:before {color: black;}#sk-container-id-4 div.sk-estimator:hover label.sk-toggleable__label-arrow:before {color: black;}#sk-container-id-4 div.sk-toggleable__content {max-height: 0;max-width: 0;overflow: hidden;text-align: left;background-color: #f0f8ff;}#sk-container-id-4 div.sk-toggleable__content pre {margin: 0.2em;color: black;border-radius: 0.25em;background-color: #f0f8ff;}#sk-container-id-4 input.sk-toggleable__control:checked~div.sk-toggleable__content {max-height: 200px;max-width: 100%;overflow: auto;}#sk-container-id-4 input.sk-toggleable__control:checked~label.sk-toggleable__label-arrow:before {content: \"▾\";}#sk-container-id-4 div.sk-estimator input.sk-toggleable__control:checked~label.sk-toggleable__label {background-color: #d4ebff;}#sk-container-id-4 div.sk-label input.sk-toggleable__control:checked~label.sk-toggleable__label {background-color: #d4ebff;}#sk-container-id-4 input.sk-hidden--visually {border: 0;clip: rect(1px 1px 1px 1px);clip: rect(1px, 1px, 1px, 1px);height: 1px;margin: -1px;overflow: hidden;padding: 0;position: absolute;width: 1px;}#sk-container-id-4 div.sk-estimator {font-family: monospace;background-color: #f0f8ff;border: 1px dotted black;border-radius: 0.25em;box-sizing: border-box;margin-bottom: 0.5em;}#sk-container-id-4 div.sk-estimator:hover {background-color: #d4ebff;}#sk-container-id-4 div.sk-parallel-item::after {content: \"\";width: 100%;border-bottom: 1px solid gray;flex-grow: 1;}#sk-container-id-4 div.sk-label:hover label.sk-toggleable__label {background-color: #d4ebff;}#sk-container-id-4 div.sk-serial::before {content: \"\";position: absolute;border-left: 1px solid gray;box-sizing: border-box;top: 0;bottom: 0;left: 50%;z-index: 0;}#sk-container-id-4 div.sk-serial {display: flex;flex-direction: column;align-items: center;background-color: white;padding-right: 0.2em;padding-left: 0.2em;position: relative;}#sk-container-id-4 div.sk-item {position: relative;z-index: 1;}#sk-container-id-4 div.sk-parallel {display: flex;align-items: stretch;justify-content: center;background-color: white;position: relative;}#sk-container-id-4 div.sk-item::before, #sk-container-id-4 div.sk-parallel-item::before {content: \"\";position: absolute;border-left: 1px solid gray;box-sizing: border-box;top: 0;bottom: 0;left: 50%;z-index: -1;}#sk-container-id-4 div.sk-parallel-item {display: flex;flex-direction: column;z-index: 1;position: relative;background-color: white;}#sk-container-id-4 div.sk-parallel-item:first-child::after {align-self: flex-end;width: 50%;}#sk-container-id-4 div.sk-parallel-item:last-child::after {align-self: flex-start;width: 50%;}#sk-container-id-4 div.sk-parallel-item:only-child::after {width: 0;}#sk-container-id-4 div.sk-dashed-wrapped {border: 1px dashed gray;margin: 0 0.4em 0.5em 0.4em;box-sizing: border-box;padding-bottom: 0.4em;background-color: white;}#sk-container-id-4 div.sk-label label {font-family: monospace;font-weight: bold;display: inline-block;line-height: 1.2em;}#sk-container-id-4 div.sk-label-container {text-align: center;}#sk-container-id-4 div.sk-container {/* jupyter's `normalize.less` sets `[hidden] { display: none; }` but bootstrap.min.css set `[hidden] { display: none !important; }` so we also need the `!important` here to be able to override the default hidden behavior on the sphinx rendered scikit-learn.org. See: https://github.com/scikit-learn/scikit-learn/issues/21755 */display: inline-block !important;position: relative;}#sk-container-id-4 div.sk-text-repr-fallback {display: none;}</style><div id=\"sk-container-id-4\" class=\"sk-top-container\"><div class=\"sk-text-repr-fallback\"><pre>RandomForestClassifier(random_state=42)</pre><b>In a Jupyter environment, please rerun this cell to show the HTML representation or trust the notebook. <br />On GitHub, the HTML representation is unable to render, please try loading this page with nbviewer.org.</b></div><div class=\"sk-container\" hidden><div class=\"sk-item\"><div class=\"sk-estimator sk-toggleable\"><input class=\"sk-toggleable__control sk-hidden--visually\" id=\"sk-estimator-id-4\" type=\"checkbox\" checked><label for=\"sk-estimator-id-4\" class=\"sk-toggleable__label sk-toggleable__label-arrow\">RandomForestClassifier</label><div class=\"sk-toggleable__content\"><pre>RandomForestClassifier(random_state=42)</pre></div></div></div></div></div>"
            ]
          },
          "metadata": {},
          "execution_count": 40
        }
      ]
    },
    {
      "cell_type": "code",
      "source": [
        "# Predecir en el conjunto de prueba\n",
        "y_pred = rf_classifier.predict(X_test)"
      ],
      "metadata": {
        "id": "rsJiLeHS1WKn"
      },
      "execution_count": null,
      "outputs": []
    },
    {
      "cell_type": "code",
      "source": [
        "# Calcular la precisión\n",
        "accuracy = accuracy_score(y_test, y_pred)\n",
        "print(\"Precisión del clasificador de Random Forest:\", accuracy)\n",
        "\n",
        "# Crear la gráfica de precisión\n",
        "plt.figure(figsize=(8, 6))\n",
        "plt.bar(['Random Forest'], [accuracy], color='red')\n",
        "plt.xlabel('Algoritmo')\n",
        "plt.ylabel('Precisión')\n",
        "plt.title('Precisión del clasificador Random Forest')\n",
        "plt.ylim(0, 1)\n",
        "plt.show()"
      ],
      "metadata": {
        "colab": {
          "base_uri": "https://localhost:8080/",
          "height": 581
        },
        "id": "ZOfWJ5ty1c78",
        "outputId": "c03d0c4f-af50-431d-b7ad-6ce62e84feda"
      },
      "execution_count": null,
      "outputs": [
        {
          "output_type": "stream",
          "name": "stdout",
          "text": [
            "Precisión del clasificador de Random Forest: 0.40629011553273425\n"
          ]
        },
        {
          "output_type": "display_data",
          "data": {
            "text/plain": [
              "<Figure size 800x600 with 1 Axes>"
            ],
            "image/png": "[encoded data removed]"
          },
          "metadata": {}
        }
      ]
    },
    {
      "cell_type": "markdown",
      "source": [
        "Como se puede evidenciar, la precisión del algoritmo Random Forest es un poco más alta en comparación con el algoritmo de Arbol de decisión. Es necesario mencionar que una precisión del 42% es relativamente baja para el modelo entrenado, por lo que es necesario seguir realizando iteraciones para poder entrenar y ajustar el modelo a lo que se necesita. Además, dada la complejidad de las reseñas realizadas y la identificación de caracteres especiales, a partir de la vectorización con TDF-IDF, es posible que se tengan valores muy complejos y los datos de entrenamiento no estan siendo bien recibidos al momento de ingresar nuevos valores. Por último, queremos reconocer que una precisión del 42% no es necesariamente un callejón sin salida. Hay varias estrategias que podrías probar para mejorar el rendimiento del modelo, como la selección de características más efectiva, la optimización de hiperparámetros, la ingeniería de características, el manejo del desbalance de clases, el uso de técnicas de ensamblaje de modelos, entre otros."
      ],
      "metadata": {
        "id": "P6x-3X_clUEy"
      }
    },
    {
      "cell_type": "markdown",
      "source": [
        "```\n",
        "# Esto tiene formato de código\n",
        "```\n",
        "\n",
        "### Naive Bayes\n",
        "\n",
        "Dado el enunciado y los objetivos del Ministerio de Comercio, Industria y Turismo de Colombia y otras entidades interesadas en analizar las características de sitios turísticos, un modelo basado en Nayive Bayes podría ser una excelente opción por varias razones:\n",
        "\n",
        "1. Interpretabilidad:\n",
        "El Nayive Bayes son altamente interpretables.\n",
        "\n",
        "2. Manejo de Características Categóricas y Numéricas:\n",
        "El Nayive Bayes maneja bien tanto características numéricas como categóricas sin necesidad de preprocesamiento complejo."
      ],
      "metadata": {
        "id": "fJQrNxCC4VDx"
      }
    },
    {
      "cell_type": "code",
      "source": [
        "# Importar las bibliotecas necesarias\n",
        "from sklearn.feature_extraction.text import TfidfVectorizer\n",
        "from sklearn.naive_bayes import MultinomialNB\n",
        "from sklearn.model_selection import train_test_split\n",
        "from sklearn.metrics import accuracy_score\n",
        "import pandas as pd"
      ],
      "metadata": {
        "id": "VLKDxc2Q5XbA"
      },
      "execution_count": null,
      "outputs": []
    },
    {
      "cell_type": "code",
      "source": [
        "# Dividir los datos en conjunto de entrenamiento y prueba\n",
        "X_train, X_test, y_train, y_test = train_test_split(X_tfidf, data['Class'], test_size=0.2, random_state=42)"
      ],
      "metadata": {
        "id": "gSAmTEYf5hl-"
      },
      "execution_count": null,
      "outputs": []
    },
    {
      "cell_type": "code",
      "source": [
        "# Crear el clasificador Naive Bayes\n",
        "naive_bayes_classifier = MultinomialNB()"
      ],
      "metadata": {
        "id": "JEDLKVHZ5kce"
      },
      "execution_count": null,
      "outputs": []
    },
    {
      "cell_type": "code",
      "source": [
        "# Entrenar el clasificador\n",
        "naive_bayes_classifier.fit(X_train, y_train)"
      ],
      "metadata": {
        "colab": {
          "base_uri": "https://localhost:8080/",
          "height": 75
        },
        "id": "G91O878I83Y-",
        "outputId": "91e95d0a-d01f-4ca4-f2c8-4941641df06c"
      },
      "execution_count": null,
      "outputs": [
        {
          "output_type": "execute_result",
          "data": {
            "text/plain": [
              "MultinomialNB()"
            ],
            "text/html": [
              "<style>#sk-container-id-3 {color: black;background-color: white;}#sk-container-id-3 pre{padding: 0;}#sk-container-id-3 div.sk-toggleable {background-color: white;}#sk-container-id-3 label.sk-toggleable__label {cursor: pointer;display: block;width: 100%;margin-bottom: 0;padding: 0.3em;box-sizing: border-box;text-align: center;}#sk-container-id-3 label.sk-toggleable__label-arrow:before {content: \"▸\";float: left;margin-right: 0.25em;color: #696969;}#sk-container-id-3 label.sk-toggleable__label-arrow:hover:before {color: black;}#sk-container-id-3 div.sk-estimator:hover label.sk-toggleable__label-arrow:before {color: black;}#sk-container-id-3 div.sk-toggleable__content {max-height: 0;max-width: 0;overflow: hidden;text-align: left;background-color: #f0f8ff;}#sk-container-id-3 div.sk-toggleable__content pre {margin: 0.2em;color: black;border-radius: 0.25em;background-color: #f0f8ff;}#sk-container-id-3 input.sk-toggleable__control:checked~div.sk-toggleable__content {max-height: 200px;max-width: 100%;overflow: auto;}#sk-container-id-3 input.sk-toggleable__control:checked~label.sk-toggleable__label-arrow:before {content: \"▾\";}#sk-container-id-3 div.sk-estimator input.sk-toggleable__control:checked~label.sk-toggleable__label {background-color: #d4ebff;}#sk-container-id-3 div.sk-label input.sk-toggleable__control:checked~label.sk-toggleable__label {background-color: #d4ebff;}#sk-container-id-3 input.sk-hidden--visually {border: 0;clip: rect(1px 1px 1px 1px);clip: rect(1px, 1px, 1px, 1px);height: 1px;margin: -1px;overflow: hidden;padding: 0;position: absolute;width: 1px;}#sk-container-id-3 div.sk-estimator {font-family: monospace;background-color: #f0f8ff;border: 1px dotted black;border-radius: 0.25em;box-sizing: border-box;margin-bottom: 0.5em;}#sk-container-id-3 div.sk-estimator:hover {background-color: #d4ebff;}#sk-container-id-3 div.sk-parallel-item::after {content: \"\";width: 100%;border-bottom: 1px solid gray;flex-grow: 1;}#sk-container-id-3 div.sk-label:hover label.sk-toggleable__label {background-color: #d4ebff;}#sk-container-id-3 div.sk-serial::before {content: \"\";position: absolute;border-left: 1px solid gray;box-sizing: border-box;top: 0;bottom: 0;left: 50%;z-index: 0;}#sk-container-id-3 div.sk-serial {display: flex;flex-direction: column;align-items: center;background-color: white;padding-right: 0.2em;padding-left: 0.2em;position: relative;}#sk-container-id-3 div.sk-item {position: relative;z-index: 1;}#sk-container-id-3 div.sk-parallel {display: flex;align-items: stretch;justify-content: center;background-color: white;position: relative;}#sk-container-id-3 div.sk-item::before, #sk-container-id-3 div.sk-parallel-item::before {content: \"\";position: absolute;border-left: 1px solid gray;box-sizing: border-box;top: 0;bottom: 0;left: 50%;z-index: -1;}#sk-container-id-3 div.sk-parallel-item {display: flex;flex-direction: column;z-index: 1;position: relative;background-color: white;}#sk-container-id-3 div.sk-parallel-item:first-child::after {align-self: flex-end;width: 50%;}#sk-container-id-3 div.sk-parallel-item:last-child::after {align-self: flex-start;width: 50%;}#sk-container-id-3 div.sk-parallel-item:only-child::after {width: 0;}#sk-container-id-3 div.sk-dashed-wrapped {border: 1px dashed gray;margin: 0 0.4em 0.5em 0.4em;box-sizing: border-box;padding-bottom: 0.4em;background-color: white;}#sk-container-id-3 div.sk-label label {font-family: monospace;font-weight: bold;display: inline-block;line-height: 1.2em;}#sk-container-id-3 div.sk-label-container {text-align: center;}#sk-container-id-3 div.sk-container {/* jupyter's `normalize.less` sets `[hidden] { display: none; }` but bootstrap.min.css set `[hidden] { display: none !important; }` so we also need the `!important` here to be able to override the default hidden behavior on the sphinx rendered scikit-learn.org. See: https://github.com/scikit-learn/scikit-learn/issues/21755 */display: inline-block !important;position: relative;}#sk-container-id-3 div.sk-text-repr-fallback {display: none;}</style><div id=\"sk-container-id-3\" class=\"sk-top-container\"><div class=\"sk-text-repr-fallback\"><pre>MultinomialNB()</pre><b>In a Jupyter environment, please rerun this cell to show the HTML representation or trust the notebook. <br />On GitHub, the HTML representation is unable to render, please try loading this page with nbviewer.org.</b></div><div class=\"sk-container\" hidden><div class=\"sk-item\"><div class=\"sk-estimator sk-toggleable\"><input class=\"sk-toggleable__control sk-hidden--visually\" id=\"sk-estimator-id-3\" type=\"checkbox\" checked><label for=\"sk-estimator-id-3\" class=\"sk-toggleable__label sk-toggleable__label-arrow\">MultinomialNB</label><div class=\"sk-toggleable__content\"><pre>MultinomialNB()</pre></div></div></div></div></div>"
            ]
          },
          "metadata": {},
          "execution_count": 34
        }
      ]
    },
    {
      "cell_type": "code",
      "source": [
        "# Predecir en el conjunto de prueba\n",
        "y_pred = naive_bayes_classifier.predict(X_test)"
      ],
      "metadata": {
        "id": "ewhAfXsx87gf"
      },
      "execution_count": null,
      "outputs": []
    },
    {
      "cell_type": "code",
      "source": [
        "# Calcular la precisión\n",
        "accuracy = accuracy_score(y_test, y_pred)\n",
        "print(\"Precisión del clasificador Naive Bayes:\", accuracy)\n",
        "\n",
        "# Crear la gráfica de precisión\n",
        "plt.figure(figsize=(8, 6))\n",
        "plt.bar(['Naive Bayes'], [accuracy], color='blue')\n",
        "plt.xlabel('Algoritmo')\n",
        "plt.ylabel('Precisión')\n",
        "plt.title('Precisión del clasificador Naive Bayes')\n",
        "plt.ylim(0, 1)\n",
        "plt.show()"
      ],
      "metadata": {
        "colab": {
          "base_uri": "https://localhost:8080/",
          "height": 582
        },
        "id": "QKU7iIiX8_t9",
        "outputId": "b72ca11c-02f6-4bdd-9ed7-ac12b3dd9030"
      },
      "execution_count": null,
      "outputs": [
        {
          "output_type": "stream",
          "name": "stdout",
          "text": [
            "Precisión del clasificador Naive Bayes: 0.4056482670089859\n"
          ]
        },
        {
          "output_type": "display_data",
          "data": {
            "text/plain": [
              "<Figure size 800x600 with 1 Axes>"
            ],
            "image/png": "[encoded data removed]"
          },
          "metadata": {}
        }
      ]
    },
    {
      "cell_type": "markdown",
      "source": [
        "## Conclusiones\n",
        "\n",
        "Es asi como usaremos el modelo de Random Forest ya que es el algoritmo con mayor presición en un 42%. Este algoritmo ha demostrado ser el que mejor se adapta a las necesidades del negocio de clasificar los reviews de los clientes en los hoteles.\n",
        "\n",
        "Ahora bien encontremos insights valiosos para el cliente con respecto a este algoritmo."
      ],
      "metadata": {
        "id": "M9TAe85xDSap"
      }
    },
    {
      "cell_type": "code",
      "source": [
        "import numpy as np\n",
        "import matplotlib.pyplot as plt\n",
        "\n",
        "# Paso 1: Obtener la importancia de las características\n",
        "feature_importances = rf_classifier.feature_importances_\n",
        "\n",
        "# Paso 2: Vincular estas importancias con las palabras correspondientes\n",
        "# Asumimos que 'feature_names' es la lista de palabras en el mismo orden que en el vectorizador TF-IDF\n",
        "feature_names = tfidf_vectorizer.get_feature_names_out()\n",
        "\n",
        "# Crear un DataFrame para facilitar el manejo\n",
        "import pandas as pd\n",
        "features_df = pd.DataFrame({'Feature': feature_names, 'Importance': feature_importances})\n",
        "\n",
        "# Paso 3: Ordenar las palabras por su importancia\n",
        "features_df = features_df.sort_values(by='Importance', ascending=False)\n",
        "\n",
        "# Mostrar las 20 características más importantes\n",
        "print(features_df.head(20))\n",
        "\n",
        "# Opcional: Graficar las características más importantes\n",
        "plt.figure(figsize=(10, 8))\n",
        "plt.barh(features_df['Feature'].head(20), features_df['Importance'].head(20), color='skyblue')\n",
        "plt.xlabel('Importancia')\n",
        "plt.ylabel('Características')\n",
        "plt.title('Top 20 de las Características más Importantes')\n",
        "plt.gca().invert_yaxis() # Invertir el eje y para mostrar la característica más importante en la parte superior\n",
        "plt.show()\n"
      ],
      "metadata": {
        "colab": {
          "base_uri": "https://localhost:8080/",
          "height": 1000
        },
        "id": "3ap3VQtXE_mk",
        "outputId": "21a1bfe2-34b5-433f-d58e-9639242ae790"
      },
      "execution_count": null,
      "outputs": [
        {
          "output_type": "stream",
          "name": "stdout",
          "text": [
            "        Feature  Importance\n",
            "4441   excelent    0.010684\n",
            "6884        mas    0.008822\n",
            "6720        mal    0.008766\n",
            "1511       buen    0.008739\n",
            "2371        com    0.006362\n",
            "6622        lug    0.006083\n",
            "9909    servici    0.005647\n",
            "5240      habit    0.005458\n",
            "5491      hotel    0.005429\n",
            "9957         si    0.005100\n",
            "11349     visit    0.004700\n",
            "9117   recomend    0.004601\n",
            "6965      mejor    0.004442\n",
            "9413    restaur    0.004392\n",
            "8867       pued    0.004304\n",
            "1328       bien    0.004253\n",
            "8304      pesim    0.004180\n",
            "10120       sol    0.004108\n",
            "5253        hac    0.003840\n",
            "2232       ciud    0.003724\n"
          ]
        },
        {
          "output_type": "display_data",
          "data": {
            "text/plain": [
              "<Figure size 1000x800 with 1 Axes>"
            ],
            "image/png": "[encoded data removed]"
          },
          "metadata": {}
        }
      ]
    },
    {
      "cell_type": "markdown",
      "source": [
        "Nuestras recomendaciones estratégicas para los hoteles del sector de Comercio, Industria y Turismo de Colombia son las siguientes:\n",
        "\n",
        "1. Priorizar la excelencia en el servicio: Los análisis demuestran que un servicio de alta calidad es el factor más decisivo en las opiniones de los usuarios. Instamos a los hoteles a concentrarse en la eficiencia y la calidad en todos los servicios ofrecidos, como la limpieza y la gastronomía. Más que agregar lujos superfluos, lo fundamental es minimizar los errores y asegurarse de que los servicios básicos se ejecuten a la perfección.\n",
        "\n",
        "2. Optimizar la experiencia de la habitación: La habitación es un aspecto crítico en la percepción del huésped. Recomendamos que las habitaciones sean espaciosas, limpias, confortables, prácticas y modernas, ya que esto influye significativamente en la satisfacción del cliente y, por consiguiente, en sus evaluaciones.\n",
        "\n",
        "3. Adaptar la oferta gastronómica al perfil del hotel: La comida es un elemento esencial para lograr valoraciones positivas. En lugar de optar por menús excesivamente elaborados y costosos que no siempre cumplen con las expectativas de los clientes, aconsejamos adaptar la oferta gastronómica a las capacidades y el nicho del hotel. Para hoteles de alta gama, se deben ofrecer platos de calidad premium que justifiquen su precio. En cambio, los hoteles más económicos podrían beneficiarse de incluir opciones de comida rápida bien ejecutadas y asequibles que satisfagan a sus clientes.\n",
        "\n",
        "Con estos ajustes, los hoteles podrán mejorar las calificaciones, aumentar la satisfacción de sus huéspedes y potenciar su competitividad en el mercado turístico.\n",
        "\n"
      ],
      "metadata": {
        "id": "khbqpYffHugw"
      }
    }
  ]
}